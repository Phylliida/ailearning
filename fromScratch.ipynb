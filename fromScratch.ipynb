{
 "cells": [
  {
   "cell_type": "code",
   "execution_count": 4,
   "metadata": {},
   "outputs": [],
   "source": [
    "def matmul000(a, b):\n",
    "    ah, aw = a.shape\n",
    "    bh, bw = b.shape\n",
    "    assert(aw==bh)\n",
    "    return torch.matmul(a, b) # also a@b, though @ is actually much more general"
   ]
  },
  {
   "cell_type": "code",
   "execution_count": 5,
   "metadata": {},
   "outputs": [],
   "source": []
  },
  {
   "cell_type": "code",
   "execution_count": 10,
   "metadata": {},
   "outputs": [],
   "source": []
  },
  {
   "cell_type": "code",
   "execution_count": 12,
   "metadata": {},
   "outputs": [
    {
     "name": "stdout",
     "output_type": "stream",
     "text": [
      "0 / 10000  datasetSize: 0\n",
      "100 / 10000  datasetSize: 95\n",
      "200 / 10000  datasetSize: 185\n",
      "300 / 10000  datasetSize: 272\n",
      "400 / 10000  datasetSize: 359\n",
      "500 / 10000  datasetSize: 449\n",
      "600 / 10000  datasetSize: 541\n",
      "700 / 10000  datasetSize: 624\n",
      "800 / 10000  datasetSize: 709\n",
      "900 / 10000  datasetSize: 787\n",
      "1000 / 10000  datasetSize: 869\n",
      "1100 / 10000  datasetSize: 945\n",
      "1200 / 10000  datasetSize: 1020\n",
      "1300 / 10000  datasetSize: 1099\n",
      "1400 / 10000  datasetSize: 1173\n",
      "1500 / 10000  datasetSize: 1247\n",
      "1600 / 10000  datasetSize: 1317\n",
      "1700 / 10000  datasetSize: 1391\n",
      "1800 / 10000  datasetSize: 1463\n",
      "1900 / 10000  datasetSize: 1525\n",
      "2000 / 10000  datasetSize: 1589\n",
      "2100 / 10000  datasetSize: 1651\n",
      "2200 / 10000  datasetSize: 1718\n",
      "2300 / 10000  datasetSize: 1787\n",
      "2400 / 10000  datasetSize: 1845\n",
      "2500 / 10000  datasetSize: 1902\n",
      "2600 / 10000  datasetSize: 1960\n",
      "2700 / 10000  datasetSize: 2019\n",
      "2800 / 10000  datasetSize: 2075\n",
      "2900 / 10000  datasetSize: 2133\n",
      "3000 / 10000  datasetSize: 2189\n",
      "3100 / 10000  datasetSize: 2251\n",
      "3200 / 10000  datasetSize: 2303\n",
      "3300 / 10000  datasetSize: 2360\n",
      "3400 / 10000  datasetSize: 2413\n",
      "3500 / 10000  datasetSize: 2465\n",
      "3600 / 10000  datasetSize: 2510\n",
      "3700 / 10000  datasetSize: 2567\n",
      "3800 / 10000  datasetSize: 2614\n",
      "3900 / 10000  datasetSize: 2654\n",
      "4000 / 10000  datasetSize: 2703\n",
      "4100 / 10000  datasetSize: 2743\n",
      "4200 / 10000  datasetSize: 2793\n",
      "4300 / 10000  datasetSize: 2841\n",
      "4400 / 10000  datasetSize: 2888\n",
      "4500 / 10000  datasetSize: 2939\n",
      "4600 / 10000  datasetSize: 2980\n",
      "4700 / 10000  datasetSize: 3024\n",
      "4800 / 10000  datasetSize: 3073\n",
      "4900 / 10000  datasetSize: 3108\n",
      "5000 / 10000  datasetSize: 3156\n",
      "5100 / 10000  datasetSize: 3202\n",
      "5200 / 10000  datasetSize: 3240\n",
      "5300 / 10000  datasetSize: 3287\n",
      "5400 / 10000  datasetSize: 3328\n",
      "5500 / 10000  datasetSize: 3376\n",
      "5600 / 10000  datasetSize: 3421\n",
      "5700 / 10000  datasetSize: 3461\n",
      "5800 / 10000  datasetSize: 3494\n",
      "5900 / 10000  datasetSize: 3524\n",
      "6000 / 10000  datasetSize: 3561\n",
      "6100 / 10000  datasetSize: 3593\n",
      "6200 / 10000  datasetSize: 3632\n",
      "6300 / 10000  datasetSize: 3666\n",
      "6400 / 10000  datasetSize: 3691\n",
      "6500 / 10000  datasetSize: 3724\n",
      "6600 / 10000  datasetSize: 3768\n",
      "6700 / 10000  datasetSize: 3802\n",
      "6800 / 10000  datasetSize: 3848\n",
      "6900 / 10000  datasetSize: 3878\n",
      "7000 / 10000  datasetSize: 3914\n",
      "7100 / 10000  datasetSize: 3944\n",
      "7200 / 10000  datasetSize: 3981\n",
      "7300 / 10000  datasetSize: 4016\n",
      "7400 / 10000  datasetSize: 4048\n",
      "7500 / 10000  datasetSize: 4083\n",
      "7600 / 10000  datasetSize: 4112\n",
      "7700 / 10000  datasetSize: 4134\n",
      "7800 / 10000  datasetSize: 4164\n",
      "7900 / 10000  datasetSize: 4194\n",
      "8000 / 10000  datasetSize: 4218\n",
      "8100 / 10000  datasetSize: 4244\n",
      "8200 / 10000  datasetSize: 4276\n",
      "8300 / 10000  datasetSize: 4301\n",
      "8400 / 10000  datasetSize: 4332\n",
      "8500 / 10000  datasetSize: 4355\n",
      "8600 / 10000  datasetSize: 4383\n",
      "8700 / 10000  datasetSize: 4409\n",
      "8800 / 10000  datasetSize: 4430\n",
      "8900 / 10000  datasetSize: 4452\n",
      "9000 / 10000  datasetSize: 4470\n",
      "9100 / 10000  datasetSize: 4502\n",
      "9200 / 10000  datasetSize: 4533\n",
      "9300 / 10000  datasetSize: 4565\n",
      "9400 / 10000  datasetSize: 4588\n",
      "9500 / 10000  datasetSize: 4608\n",
      "9600 / 10000  datasetSize: 4635\n",
      "9700 / 10000  datasetSize: 4658\n",
      "9800 / 10000  datasetSize: 4686\n",
      "9900 / 10000  datasetSize: 4711\n"
     ]
    }
   ],
   "source": [
    "dat = generateRandomDataset(datasetSize=10000, maxTrials=10000, nStates=4, symbols=['a', 'b'])"
   ]
  },
  {
   "cell_type": "code",
   "execution_count": 14,
   "metadata": {},
   "outputs": [],
   "source": [
    "import automataUtil\n",
    "import cloudpickle\n",
    "f = open(\"size4Dataset.json\", \"wb\")\n",
    "cloudpickle.dump([automataUtil.automataFromNetworkx(x, ['a', 'b']) for x in dat], f)\n",
    "f.close()"
   ]
  },
  {
   "cell_type": "code",
   "execution_count": null,
   "metadata": {},
   "outputs": [],
   "source": [
    "symbols = ['a', 'b']\n",
    "graphs = getAllAutomataOfSize(4,symbols)\n",
    "print(f\"there are {len(graphs)} graphs\")\n",
    "minimized = minimizeGraphs(graphs, symbols)"
   ]
  },
  {
   "cell_type": "code",
   "execution_count": null,
   "metadata": {},
   "outputs": [],
   "source": []
  },
  {
   "cell_type": "code",
   "execution_count": null,
   "metadata": {},
   "outputs": [],
   "source": [
    "deduplicated = removeIsomorphic(minimized)\n",
    "print(f\"there are {len(deduplicated)} non-isomorphic minimized graphs\")"
   ]
  },
  {
   "cell_type": "code",
   "execution_count": 191,
   "metadata": {},
   "outputs": [
    {
     "name": "stdout",
     "output_type": "stream",
     "text": [
      "defaultdict(<function <lambda> at 0x7fbe59cc1e50>, {1: 1})\n"
     ]
    },
    {
     "data": {
      "image/svg+xml": [
       "<?xml version=\"1.0\" encoding=\"UTF-8\" standalone=\"no\"?>\n",
       "<!DOCTYPE svg PUBLIC \"-//W3C//DTD SVG 1.1//EN\"\n",
       " \"http://www.w3.org/Graphics/SVG/1.1/DTD/svg11.dtd\">\n",
       "<!-- Generated by graphviz version 2.40.1 (20161225.0304)\n",
       " -->\n",
       "<!-- Title: %3 Pages: 1 -->\n",
       "<svg width=\"117pt\" height=\"44pt\"\n",
       " viewBox=\"0.00 0.00 117.00 44.00\" xmlns=\"http://www.w3.org/2000/svg\" xmlns:xlink=\"http://www.w3.org/1999/xlink\">\n",
       "<g id=\"graph0\" class=\"graph\" transform=\"scale(1 1) rotate(0) translate(4 40)\">\n",
       "<title>%3</title>\n",
       "<polygon fill=\"#ffffff\" stroke=\"transparent\" points=\"-4,4 -4,-40 113,-40 113,4 -4,4\"/>\n",
       "<!-- 0 -->\n",
       "<g id=\"node1\" class=\"node\">\n",
       "<title>0</title>\n",
       "<polygon fill=\"none\" stroke=\"#000000\" points=\"54,-36 0,-36 0,0 54,0 54,-36\"/>\n",
       "<text text-anchor=\"middle\" x=\"27\" y=\"-14.3\" font-family=\"Times,serif\" font-size=\"14.00\" fill=\"#000000\">a</text>\n",
       "</g>\n",
       "<!-- 0&#45;&gt;0 -->\n",
       "<g id=\"edge1\" class=\"edge\">\n",
       "<title>0&#45;&gt;0</title>\n",
       "<path fill=\"none\" stroke=\"#000000\" d=\"M54.2408,-21.3717C64.0239,-21.4442 72,-20.3203 72,-18 72,-16.5861 69.0382,-15.6164 64.5105,-15.091\"/>\n",
       "<polygon fill=\"#000000\" stroke=\"#000000\" points=\"64.3882,-11.582 54.2408,-14.6283 64.0731,-18.5749 64.3882,-11.582\"/>\n",
       "<text text-anchor=\"middle\" x=\"76.5\" y=\"-14.3\" font-family=\"Times,serif\" font-size=\"14.00\" fill=\"#000000\">a</text>\n",
       "</g>\n",
       "<!-- 0&#45;&gt;0 -->\n",
       "<g id=\"edge2\" class=\"edge\">\n",
       "<title>0&#45;&gt;0</title>\n",
       "<path fill=\"none\" stroke=\"#000000\" d=\"M54.1975,-24.1551C72.3402,-25.8876 90,-23.8359 90,-18 90,-13.2583 78.3418,-11.0148 64.2386,-11.2695\"/>\n",
       "<polygon fill=\"#000000\" stroke=\"#000000\" points=\"63.9809,-7.7784 54.1975,-11.8449 64.3814,-14.7669 63.9809,-7.7784\"/>\n",
       "<text text-anchor=\"middle\" x=\"95\" y=\"-14.3\" font-family=\"Times,serif\" font-size=\"14.00\" fill=\"#000000\">b</text>\n",
       "</g>\n",
       "</g>\n",
       "</svg>\n"
      ],
      "text/plain": [
       "<graphviz.dot.Digraph at 0x7fbd2bc7f4f0>"
      ]
     },
     "metadata": {},
     "output_type": "display_data"
    },
    {
     "data": {
      "image/svg+xml": [
       "<?xml version=\"1.0\" encoding=\"UTF-8\" standalone=\"no\"?>\n",
       "<!DOCTYPE svg PUBLIC \"-//W3C//DTD SVG 1.1//EN\"\n",
       " \"http://www.w3.org/Graphics/SVG/1.1/DTD/svg11.dtd\">\n",
       "<!-- Generated by graphviz version 2.40.1 (20161225.0304)\n",
       " -->\n",
       "<!-- Title: %3 Pages: 1 -->\n",
       "<svg width=\"108pt\" height=\"131pt\"\n",
       " viewBox=\"0.00 0.00 108.00 131.00\" xmlns=\"http://www.w3.org/2000/svg\" xmlns:xlink=\"http://www.w3.org/1999/xlink\">\n",
       "<g id=\"graph0\" class=\"graph\" transform=\"scale(1 1) rotate(0) translate(4 127)\">\n",
       "<title>%3</title>\n",
       "<polygon fill=\"#ffffff\" stroke=\"transparent\" points=\"-4,4 -4,-127 104,-127 104,4 -4,4\"/>\n",
       "<!-- 0 -->\n",
       "<g id=\"node1\" class=\"node\">\n",
       "<title>0</title>\n",
       "<ellipse fill=\"none\" stroke=\"#000000\" cx=\"27\" cy=\"-18\" rx=\"18\" ry=\"18\"/>\n",
       "<text text-anchor=\"middle\" x=\"27\" y=\"-14.3\" font-family=\"Times,serif\" font-size=\"14.00\" fill=\"#000000\">a</text>\n",
       "</g>\n",
       "<!-- 0&#45;&gt;0 -->\n",
       "<g id=\"edge1\" class=\"edge\">\n",
       "<title>0&#45;&gt;0</title>\n",
       "<path fill=\"none\" stroke=\"#000000\" d=\"M44.7817,-21.775C54.3149,-22.4165 63,-21.1582 63,-18 63,-16.0755 59.7749,-14.8564 55.0981,-14.3429\"/>\n",
       "<polygon fill=\"#000000\" stroke=\"#000000\" points=\"54.8211,-10.8396 44.7817,-14.225 54.741,-17.8391 54.8211,-10.8396\"/>\n",
       "<text text-anchor=\"middle\" x=\"67.5\" y=\"-14.3\" font-family=\"Times,serif\" font-size=\"14.00\" fill=\"#000000\">a</text>\n",
       "</g>\n",
       "<!-- 0&#45;&gt;0 -->\n",
       "<g id=\"edge2\" class=\"edge\">\n",
       "<title>0&#45;&gt;0</title>\n",
       "<path fill=\"none\" stroke=\"#000000\" d=\"M44.1418,-24.1447C61.585,-27.7592 81,-25.7109 81,-18 81,-11.7951 68.4283,-9.2569 54.4287,-10.3855\"/>\n",
       "<polygon fill=\"#000000\" stroke=\"#000000\" points=\"53.5461,-6.976 44.1418,-11.8553 54.5363,-13.9056 53.5461,-6.976\"/>\n",
       "<text text-anchor=\"middle\" x=\"86\" y=\"-14.3\" font-family=\"Times,serif\" font-size=\"14.00\" fill=\"#000000\">b</text>\n",
       "</g>\n",
       "<!-- 1 -->\n",
       "<g id=\"node2\" class=\"node\">\n",
       "<title>1</title>\n",
       "<polygon fill=\"none\" stroke=\"#000000\" points=\"54,-123 0,-123 0,-87 54,-87 54,-123\"/>\n",
       "<text text-anchor=\"middle\" x=\"27\" y=\"-101.3\" font-family=\"Times,serif\" font-size=\"14.00\" fill=\"#000000\">b</text>\n",
       "</g>\n",
       "<!-- 1&#45;&gt;0 -->\n",
       "<g id=\"edge3\" class=\"edge\">\n",
       "<title>1&#45;&gt;0</title>\n",
       "<path fill=\"none\" stroke=\"#000000\" d=\"M17.158,-86.7836C13.095,-77.1412 9.7918,-65.041 12,-54 12.6984,-50.5081 13.7429,-46.9315 14.9619,-43.4525\"/>\n",
       "<polygon fill=\"#000000\" stroke=\"#000000\" points=\"18.2557,-44.6417 18.7167,-34.0569 11.7556,-42.044 18.2557,-44.6417\"/>\n",
       "<text text-anchor=\"middle\" x=\"16.5\" y=\"-57.8\" font-family=\"Times,serif\" font-size=\"14.00\" fill=\"#000000\">a</text>\n",
       "</g>\n",
       "<!-- 1&#45;&gt;0 -->\n",
       "<g id=\"edge4\" class=\"edge\">\n",
       "<title>1&#45;&gt;0</title>\n",
       "<path fill=\"none\" stroke=\"#000000\" d=\"M27,-86.9735C27,-75.1918 27,-59.5607 27,-46.1581\"/>\n",
       "<polygon fill=\"#000000\" stroke=\"#000000\" points=\"30.5001,-46.0033 27,-36.0034 23.5001,-46.0034 30.5001,-46.0033\"/>\n",
       "<text text-anchor=\"middle\" x=\"32\" y=\"-57.8\" font-family=\"Times,serif\" font-size=\"14.00\" fill=\"#000000\">b</text>\n",
       "</g>\n",
       "</g>\n",
       "</svg>\n"
      ],
      "text/plain": [
       "<graphviz.dot.Digraph at 0x7fbd2bb465e0>"
      ]
     },
     "metadata": {},
     "output_type": "display_data"
    },
    {
     "data": {
      "image/svg+xml": [
       "<?xml version=\"1.0\" encoding=\"UTF-8\" standalone=\"no\"?>\n",
       "<!DOCTYPE svg PUBLIC \"-//W3C//DTD SVG 1.1//EN\"\n",
       " \"http://www.w3.org/Graphics/SVG/1.1/DTD/svg11.dtd\">\n",
       "<!-- Generated by graphviz version 2.40.1 (20161225.0304)\n",
       " -->\n",
       "<!-- Title: %3 Pages: 1 -->\n",
       "<svg width=\"108pt\" height=\"131pt\"\n",
       " viewBox=\"0.00 0.00 108.00 131.00\" xmlns=\"http://www.w3.org/2000/svg\" xmlns:xlink=\"http://www.w3.org/1999/xlink\">\n",
       "<g id=\"graph0\" class=\"graph\" transform=\"scale(1 1) rotate(0) translate(4 127)\">\n",
       "<title>%3</title>\n",
       "<polygon fill=\"#ffffff\" stroke=\"transparent\" points=\"-4,4 -4,-127 104,-127 104,4 -4,4\"/>\n",
       "<!-- 0 -->\n",
       "<g id=\"node1\" class=\"node\">\n",
       "<title>0</title>\n",
       "<ellipse fill=\"none\" stroke=\"#000000\" cx=\"27\" cy=\"-18\" rx=\"18\" ry=\"18\"/>\n",
       "<text text-anchor=\"middle\" x=\"27\" y=\"-14.3\" font-family=\"Times,serif\" font-size=\"14.00\" fill=\"#000000\">a</text>\n",
       "</g>\n",
       "<!-- 0&#45;&gt;0 -->\n",
       "<g id=\"edge1\" class=\"edge\">\n",
       "<title>0&#45;&gt;0</title>\n",
       "<path fill=\"none\" stroke=\"#000000\" d=\"M44.7817,-21.775C54.3149,-22.4165 63,-21.1582 63,-18 63,-16.0755 59.7749,-14.8564 55.0981,-14.3429\"/>\n",
       "<polygon fill=\"#000000\" stroke=\"#000000\" points=\"54.8211,-10.8396 44.7817,-14.225 54.741,-17.8391 54.8211,-10.8396\"/>\n",
       "<text text-anchor=\"middle\" x=\"67.5\" y=\"-14.3\" font-family=\"Times,serif\" font-size=\"14.00\" fill=\"#000000\">a</text>\n",
       "</g>\n",
       "<!-- 0&#45;&gt;0 -->\n",
       "<g id=\"edge2\" class=\"edge\">\n",
       "<title>0&#45;&gt;0</title>\n",
       "<path fill=\"none\" stroke=\"#000000\" d=\"M44.1418,-24.1447C61.585,-27.7592 81,-25.7109 81,-18 81,-11.7951 68.4283,-9.2569 54.4287,-10.3855\"/>\n",
       "<polygon fill=\"#000000\" stroke=\"#000000\" points=\"53.5461,-6.976 44.1418,-11.8553 54.5363,-13.9056 53.5461,-6.976\"/>\n",
       "<text text-anchor=\"middle\" x=\"86\" y=\"-14.3\" font-family=\"Times,serif\" font-size=\"14.00\" fill=\"#000000\">b</text>\n",
       "</g>\n",
       "<!-- 1 -->\n",
       "<g id=\"node2\" class=\"node\">\n",
       "<title>1</title>\n",
       "<polygon fill=\"none\" stroke=\"#000000\" points=\"54,-123 0,-123 0,-87 54,-87 54,-123\"/>\n",
       "<text text-anchor=\"middle\" x=\"27\" y=\"-101.3\" font-family=\"Times,serif\" font-size=\"14.00\" fill=\"#000000\">b</text>\n",
       "</g>\n",
       "<!-- 1&#45;&gt;0 -->\n",
       "<g id=\"edge3\" class=\"edge\">\n",
       "<title>1&#45;&gt;0</title>\n",
       "<path fill=\"none\" stroke=\"#000000\" d=\"M27,-86.9735C27,-75.1918 27,-59.5607 27,-46.1581\"/>\n",
       "<polygon fill=\"#000000\" stroke=\"#000000\" points=\"30.5001,-46.0033 27,-36.0034 23.5001,-46.0034 30.5001,-46.0033\"/>\n",
       "<text text-anchor=\"middle\" x=\"31.5\" y=\"-57.8\" font-family=\"Times,serif\" font-size=\"14.00\" fill=\"#000000\">a</text>\n",
       "</g>\n",
       "<!-- 1&#45;&gt;1 -->\n",
       "<g id=\"edge4\" class=\"edge\">\n",
       "<title>1&#45;&gt;1</title>\n",
       "<path fill=\"none\" stroke=\"#000000\" d=\"M54.2408,-112.8673C64.0239,-113.0365 72,-110.4141 72,-105 72,-101.7008 69.0382,-99.4382 64.5105,-98.2123\"/>\n",
       "<polygon fill=\"#000000\" stroke=\"#000000\" points=\"64.5519,-94.6975 54.2408,-97.1327 63.82,-101.6591 64.5519,-94.6975\"/>\n",
       "<text text-anchor=\"middle\" x=\"77\" y=\"-101.3\" font-family=\"Times,serif\" font-size=\"14.00\" fill=\"#000000\">b</text>\n",
       "</g>\n",
       "</g>\n",
       "</svg>\n"
      ],
      "text/plain": [
       "<graphviz.dot.Digraph at 0x7fbd2bd56190>"
      ]
     },
     "metadata": {},
     "output_type": "display_data"
    },
    {
     "data": {
      "image/svg+xml": [
       "<?xml version=\"1.0\" encoding=\"UTF-8\" standalone=\"no\"?>\n",
       "<!DOCTYPE svg PUBLIC \"-//W3C//DTD SVG 1.1//EN\"\n",
       " \"http://www.w3.org/Graphics/SVG/1.1/DTD/svg11.dtd\">\n",
       "<!-- Generated by graphviz version 2.40.1 (20161225.0304)\n",
       " -->\n",
       "<!-- Title: %3 Pages: 1 -->\n",
       "<svg width=\"117pt\" height=\"44pt\"\n",
       " viewBox=\"0.00 0.00 117.00 44.00\" xmlns=\"http://www.w3.org/2000/svg\" xmlns:xlink=\"http://www.w3.org/1999/xlink\">\n",
       "<g id=\"graph0\" class=\"graph\" transform=\"scale(1 1) rotate(0) translate(4 40)\">\n",
       "<title>%3</title>\n",
       "<polygon fill=\"#ffffff\" stroke=\"transparent\" points=\"-4,4 -4,-40 113,-40 113,4 -4,4\"/>\n",
       "<!-- 0 -->\n",
       "<g id=\"node1\" class=\"node\">\n",
       "<title>0</title>\n",
       "<polygon fill=\"none\" stroke=\"#000000\" points=\"54,-36 0,-36 0,0 54,0 54,-36\"/>\n",
       "<text text-anchor=\"middle\" x=\"27\" y=\"-14.3\" font-family=\"Times,serif\" font-size=\"14.00\" fill=\"#000000\">b</text>\n",
       "</g>\n",
       "<!-- 0&#45;&gt;0 -->\n",
       "<g id=\"edge1\" class=\"edge\">\n",
       "<title>0&#45;&gt;0</title>\n",
       "<path fill=\"none\" stroke=\"#000000\" d=\"M54.2408,-21.3717C64.0239,-21.4442 72,-20.3203 72,-18 72,-16.5861 69.0382,-15.6164 64.5105,-15.091\"/>\n",
       "<polygon fill=\"#000000\" stroke=\"#000000\" points=\"64.3882,-11.582 54.2408,-14.6283 64.0731,-18.5749 64.3882,-11.582\"/>\n",
       "<text text-anchor=\"middle\" x=\"76.5\" y=\"-14.3\" font-family=\"Times,serif\" font-size=\"14.00\" fill=\"#000000\">a</text>\n",
       "</g>\n",
       "<!-- 0&#45;&gt;0 -->\n",
       "<g id=\"edge2\" class=\"edge\">\n",
       "<title>0&#45;&gt;0</title>\n",
       "<path fill=\"none\" stroke=\"#000000\" d=\"M54.1975,-24.1551C72.3402,-25.8876 90,-23.8359 90,-18 90,-13.2583 78.3418,-11.0148 64.2386,-11.2695\"/>\n",
       "<polygon fill=\"#000000\" stroke=\"#000000\" points=\"63.9809,-7.7784 54.1975,-11.8449 64.3814,-14.7669 63.9809,-7.7784\"/>\n",
       "<text text-anchor=\"middle\" x=\"95\" y=\"-14.3\" font-family=\"Times,serif\" font-size=\"14.00\" fill=\"#000000\">b</text>\n",
       "</g>\n",
       "</g>\n",
       "</svg>\n"
      ],
      "text/plain": [
       "<graphviz.dot.Digraph at 0x7fbd2bea66a0>"
      ]
     },
     "metadata": {},
     "output_type": "display_data"
    },
    {
     "data": {
      "image/svg+xml": [
       "<?xml version=\"1.0\" encoding=\"UTF-8\" standalone=\"no\"?>\n",
       "<!DOCTYPE svg PUBLIC \"-//W3C//DTD SVG 1.1//EN\"\n",
       " \"http://www.w3.org/Graphics/SVG/1.1/DTD/svg11.dtd\">\n",
       "<!-- Generated by graphviz version 2.40.1 (20161225.0304)\n",
       " -->\n",
       "<!-- Title: %3 Pages: 1 -->\n",
       "<svg width=\"96pt\" height=\"131pt\"\n",
       " viewBox=\"0.00 0.00 95.52 131.00\" xmlns=\"http://www.w3.org/2000/svg\" xmlns:xlink=\"http://www.w3.org/1999/xlink\">\n",
       "<g id=\"graph0\" class=\"graph\" transform=\"scale(1 1) rotate(0) translate(4 127)\">\n",
       "<title>%3</title>\n",
       "<polygon fill=\"#ffffff\" stroke=\"transparent\" points=\"-4,4 -4,-127 91.5195,-127 91.5195,4 -4,4\"/>\n",
       "<!-- 0 -->\n",
       "<g id=\"node1\" class=\"node\">\n",
       "<title>0</title>\n",
       "<polygon fill=\"none\" stroke=\"#000000\" points=\"60.5195,-123 6.5195,-123 6.5195,-87 60.5195,-87 60.5195,-123\"/>\n",
       "<text text-anchor=\"middle\" x=\"33.5195\" y=\"-101.3\" font-family=\"Times,serif\" font-size=\"14.00\" fill=\"#000000\">a</text>\n",
       "</g>\n",
       "<!-- 0&#45;&gt;0 -->\n",
       "<g id=\"edge1\" class=\"edge\">\n",
       "<title>0&#45;&gt;0</title>\n",
       "<path fill=\"none\" stroke=\"#000000\" d=\"M60.7603,-112.8673C70.5434,-113.0365 78.5195,-110.4141 78.5195,-105 78.5195,-101.7008 75.5577,-99.4382 71.03,-98.2123\"/>\n",
       "<polygon fill=\"#000000\" stroke=\"#000000\" points=\"71.0714,-94.6975 60.7603,-97.1327 70.3395,-101.6591 71.0714,-94.6975\"/>\n",
       "<text text-anchor=\"middle\" x=\"83.0195\" y=\"-101.3\" font-family=\"Times,serif\" font-size=\"14.00\" fill=\"#000000\">a</text>\n",
       "</g>\n",
       "<!-- 1 -->\n",
       "<g id=\"node2\" class=\"node\">\n",
       "<title>1</title>\n",
       "<ellipse fill=\"none\" stroke=\"#000000\" cx=\"33.5195\" cy=\"-18\" rx=\"18\" ry=\"18\"/>\n",
       "<text text-anchor=\"middle\" x=\"33.5195\" y=\"-14.3\" font-family=\"Times,serif\" font-size=\"14.00\" fill=\"#000000\">b</text>\n",
       "</g>\n",
       "<!-- 0&#45;&gt;1 -->\n",
       "<g id=\"edge2\" class=\"edge\">\n",
       "<title>0&#45;&gt;1</title>\n",
       "<path fill=\"none\" stroke=\"#000000\" d=\"M12.975,-86.9759C8.3192,-81.6987 4.0158,-75.5657 1.5195,-69 -2.8917,-57.3976 3.675,-45.5853 11.9843,-36.2544\"/>\n",
       "<polygon fill=\"#000000\" stroke=\"#000000\" points=\"14.5805,-38.6078 19.1711,-29.0592 9.6278,-33.6609 14.5805,-38.6078\"/>\n",
       "<text text-anchor=\"middle\" x=\"6.5195\" y=\"-57.8\" font-family=\"Times,serif\" font-size=\"14.00\" fill=\"#000000\">b</text>\n",
       "</g>\n",
       "<!-- 1&#45;&gt;0 -->\n",
       "<g id=\"edge3\" class=\"edge\">\n",
       "<title>1&#45;&gt;0</title>\n",
       "<path fill=\"none\" stroke=\"#000000\" d=\"M33.5195,-36.0034C33.5195,-47.7801 33.5195,-63.4102 33.5195,-76.8156\"/>\n",
       "<polygon fill=\"#000000\" stroke=\"#000000\" points=\"30.0196,-76.9735 33.5195,-86.9735 37.0196,-76.9736 30.0196,-76.9735\"/>\n",
       "<text text-anchor=\"middle\" x=\"38.0195\" y=\"-57.8\" font-family=\"Times,serif\" font-size=\"14.00\" fill=\"#000000\">a</text>\n",
       "</g>\n",
       "<!-- 1&#45;&gt;0 -->\n",
       "<g id=\"edge4\" class=\"edge\">\n",
       "<title>1&#45;&gt;0</title>\n",
       "<path fill=\"none\" stroke=\"#000000\" d=\"M39.3698,-35.3788C41.0619,-41.2248 42.6784,-47.8299 43.5195,-54 44.53,-61.4133 43.8366,-69.375 42.4373,-76.752\"/>\n",
       "<polygon fill=\"#000000\" stroke=\"#000000\" points=\"38.9864,-76.1365 40.0928,-86.6734 45.7988,-77.7463 38.9864,-76.1365\"/>\n",
       "<text text-anchor=\"middle\" x=\"48.5195\" y=\"-57.8\" font-family=\"Times,serif\" font-size=\"14.00\" fill=\"#000000\">b</text>\n",
       "</g>\n",
       "</g>\n",
       "</svg>\n"
      ],
      "text/plain": [
       "<graphviz.dot.Digraph at 0x7fbd29d42130>"
      ]
     },
     "metadata": {},
     "output_type": "display_data"
    },
    {
     "data": {
      "image/svg+xml": [
       "<?xml version=\"1.0\" encoding=\"UTF-8\" standalone=\"no\"?>\n",
       "<!DOCTYPE svg PUBLIC \"-//W3C//DTD SVG 1.1//EN\"\n",
       " \"http://www.w3.org/Graphics/SVG/1.1/DTD/svg11.dtd\">\n",
       "<!-- Generated by graphviz version 2.40.1 (20161225.0304)\n",
       " -->\n",
       "<!-- Title: %3 Pages: 1 -->\n",
       "<svg width=\"87pt\" height=\"131pt\"\n",
       " viewBox=\"0.00 0.00 86.75 131.00\" xmlns=\"http://www.w3.org/2000/svg\" xmlns:xlink=\"http://www.w3.org/1999/xlink\">\n",
       "<g id=\"graph0\" class=\"graph\" transform=\"scale(1 1) rotate(0) translate(4 127)\">\n",
       "<title>%3</title>\n",
       "<polygon fill=\"#ffffff\" stroke=\"transparent\" points=\"-4,4 -4,-127 82.7506,-127 82.7506,4 -4,4\"/>\n",
       "<!-- 0 -->\n",
       "<g id=\"node1\" class=\"node\">\n",
       "<title>0</title>\n",
       "<ellipse fill=\"none\" stroke=\"#000000\" cx=\"33.7506\" cy=\"-105\" rx=\"18\" ry=\"18\"/>\n",
       "<text text-anchor=\"middle\" x=\"33.7506\" y=\"-101.3\" font-family=\"Times,serif\" font-size=\"14.00\" fill=\"#000000\">a</text>\n",
       "</g>\n",
       "<!-- 0&#45;&gt;0 -->\n",
       "<g id=\"edge1\" class=\"edge\">\n",
       "<title>0&#45;&gt;0</title>\n",
       "<path fill=\"none\" stroke=\"#000000\" d=\"M50.4146,-112.3828C60.3756,-114.0234 69.7506,-111.5625 69.7506,-105 69.7506,-100.7959 65.9031,-98.2751 60.5188,-97.4375\"/>\n",
       "<polygon fill=\"#000000\" stroke=\"#000000\" points=\"60.3508,-93.9399 50.4146,-97.6172 60.4753,-100.9388 60.3508,-93.9399\"/>\n",
       "<text text-anchor=\"middle\" x=\"74.2506\" y=\"-101.3\" font-family=\"Times,serif\" font-size=\"14.00\" fill=\"#000000\">a</text>\n",
       "</g>\n",
       "<!-- 1 -->\n",
       "<g id=\"node2\" class=\"node\">\n",
       "<title>1</title>\n",
       "<polygon fill=\"none\" stroke=\"#000000\" points=\"60.7506,-36 6.7506,-36 6.7506,0 60.7506,0 60.7506,-36\"/>\n",
       "<text text-anchor=\"middle\" x=\"33.7506\" y=\"-14.3\" font-family=\"Times,serif\" font-size=\"14.00\" fill=\"#000000\">b</text>\n",
       "</g>\n",
       "<!-- 0&#45;&gt;1 -->\n",
       "<g id=\"edge2\" class=\"edge\">\n",
       "<title>0&#45;&gt;1</title>\n",
       "<path fill=\"none\" stroke=\"#000000\" d=\"M19.6065,-93.5735C12.8137,-87.159 5.3761,-78.5359 1.7506,-69 -1.4,-60.7135 1.0493,-52.3198 5.7338,-44.7996\"/>\n",
       "<polygon fill=\"#000000\" stroke=\"#000000\" points=\"8.821,-46.5197 12.0581,-36.4315 3.2364,-42.2991 8.821,-46.5197\"/>\n",
       "<text text-anchor=\"middle\" x=\"6.7506\" y=\"-57.8\" font-family=\"Times,serif\" font-size=\"14.00\" fill=\"#000000\">b</text>\n",
       "</g>\n",
       "<!-- 1&#45;&gt;0 -->\n",
       "<g id=\"edge3\" class=\"edge\">\n",
       "<title>1&#45;&gt;0</title>\n",
       "<path fill=\"none\" stroke=\"#000000\" d=\"M33.7506,-36.0034C33.7506,-47.7801 33.7506,-63.4102 33.7506,-76.8156\"/>\n",
       "<polygon fill=\"#000000\" stroke=\"#000000\" points=\"30.2507,-76.9735 33.7506,-86.9735 37.2507,-76.9736 30.2507,-76.9735\"/>\n",
       "<text text-anchor=\"middle\" x=\"38.2506\" y=\"-57.8\" font-family=\"Times,serif\" font-size=\"14.00\" fill=\"#000000\">a</text>\n",
       "</g>\n",
       "<!-- 1&#45;&gt;0 -->\n",
       "<g id=\"edge4\" class=\"edge\">\n",
       "<title>1&#45;&gt;0</title>\n",
       "<path fill=\"none\" stroke=\"#000000\" d=\"M39.812,-36.1134C41.4264,-41.7745 42.9446,-48.087 43.7506,-54 44.8351,-61.9567 43.957,-70.5451 42.3496,-78.3643\"/>\n",
       "<polygon fill=\"#000000\" stroke=\"#000000\" points=\"38.95,-77.5322 39.9204,-88.0825 45.7411,-79.2298 38.95,-77.5322\"/>\n",
       "<text text-anchor=\"middle\" x=\"48.7506\" y=\"-57.8\" font-family=\"Times,serif\" font-size=\"14.00\" fill=\"#000000\">b</text>\n",
       "</g>\n",
       "</g>\n",
       "</svg>\n"
      ],
      "text/plain": [
       "<graphviz.dot.Digraph at 0x7fbd29d6b880>"
      ]
     },
     "metadata": {},
     "output_type": "display_data"
    },
    {
     "data": {
      "image/svg+xml": [
       "<?xml version=\"1.0\" encoding=\"UTF-8\" standalone=\"no\"?>\n",
       "<!DOCTYPE svg PUBLIC \"-//W3C//DTD SVG 1.1//EN\"\n",
       " \"http://www.w3.org/Graphics/SVG/1.1/DTD/svg11.dtd\">\n",
       "<!-- Generated by graphviz version 2.40.1 (20161225.0304)\n",
       " -->\n",
       "<!-- Title: %3 Pages: 1 -->\n",
       "<svg width=\"89pt\" height=\"131pt\"\n",
       " viewBox=\"0.00 0.00 89.00 131.00\" xmlns=\"http://www.w3.org/2000/svg\" xmlns:xlink=\"http://www.w3.org/1999/xlink\">\n",
       "<g id=\"graph0\" class=\"graph\" transform=\"scale(1 1) rotate(0) translate(4 127)\">\n",
       "<title>%3</title>\n",
       "<polygon fill=\"#ffffff\" stroke=\"transparent\" points=\"-4,4 -4,-127 85,-127 85,4 -4,4\"/>\n",
       "<!-- 0 -->\n",
       "<g id=\"node1\" class=\"node\">\n",
       "<title>0</title>\n",
       "<polygon fill=\"none\" stroke=\"#000000\" points=\"54,-123 0,-123 0,-87 54,-87 54,-123\"/>\n",
       "<text text-anchor=\"middle\" x=\"27\" y=\"-101.3\" font-family=\"Times,serif\" font-size=\"14.00\" fill=\"#000000\">a</text>\n",
       "</g>\n",
       "<!-- 0&#45;&gt;0 -->\n",
       "<g id=\"edge1\" class=\"edge\">\n",
       "<title>0&#45;&gt;0</title>\n",
       "<path fill=\"none\" stroke=\"#000000\" d=\"M54.2408,-112.8673C64.0239,-113.0365 72,-110.4141 72,-105 72,-101.7008 69.0382,-99.4382 64.5105,-98.2123\"/>\n",
       "<polygon fill=\"#000000\" stroke=\"#000000\" points=\"64.5519,-94.6975 54.2408,-97.1327 63.82,-101.6591 64.5519,-94.6975\"/>\n",
       "<text text-anchor=\"middle\" x=\"76.5\" y=\"-101.3\" font-family=\"Times,serif\" font-size=\"14.00\" fill=\"#000000\">a</text>\n",
       "</g>\n",
       "<!-- 1 -->\n",
       "<g id=\"node2\" class=\"node\">\n",
       "<title>1</title>\n",
       "<ellipse fill=\"none\" stroke=\"#000000\" cx=\"27\" cy=\"-18\" rx=\"18\" ry=\"18\"/>\n",
       "<text text-anchor=\"middle\" x=\"27\" y=\"-14.3\" font-family=\"Times,serif\" font-size=\"14.00\" fill=\"#000000\">b</text>\n",
       "</g>\n",
       "<!-- 0&#45;&gt;1 -->\n",
       "<g id=\"edge2\" class=\"edge\">\n",
       "<title>0&#45;&gt;1</title>\n",
       "<path fill=\"none\" stroke=\"#000000\" d=\"M17.158,-86.7836C13.095,-77.1412 9.7918,-65.041 12,-54 12.6984,-50.5081 13.7429,-46.9315 14.9619,-43.4525\"/>\n",
       "<polygon fill=\"#000000\" stroke=\"#000000\" points=\"18.2557,-44.6417 18.7167,-34.0569 11.7556,-42.044 18.2557,-44.6417\"/>\n",
       "<text text-anchor=\"middle\" x=\"17\" y=\"-57.8\" font-family=\"Times,serif\" font-size=\"14.00\" fill=\"#000000\">b</text>\n",
       "</g>\n",
       "<!-- 1&#45;&gt;0 -->\n",
       "<g id=\"edge3\" class=\"edge\">\n",
       "<title>1&#45;&gt;0</title>\n",
       "<path fill=\"none\" stroke=\"#000000\" d=\"M27,-36.0034C27,-47.7801 27,-63.4102 27,-76.8156\"/>\n",
       "<polygon fill=\"#000000\" stroke=\"#000000\" points=\"23.5001,-76.9735 27,-86.9735 30.5001,-76.9736 23.5001,-76.9735\"/>\n",
       "<text text-anchor=\"middle\" x=\"31.5\" y=\"-57.8\" font-family=\"Times,serif\" font-size=\"14.00\" fill=\"#000000\">a</text>\n",
       "</g>\n",
       "<!-- 1&#45;&gt;1 -->\n",
       "<g id=\"edge4\" class=\"edge\">\n",
       "<title>1&#45;&gt;1</title>\n",
       "<path fill=\"none\" stroke=\"#000000\" d=\"M43.6641,-25.3828C53.625,-27.0234 63,-24.5625 63,-18 63,-13.7959 59.1525,-11.2751 53.7682,-10.4375\"/>\n",
       "<polygon fill=\"#000000\" stroke=\"#000000\" points=\"53.6002,-6.9399 43.6641,-10.6172 53.7247,-13.9388 53.6002,-6.9399\"/>\n",
       "<text text-anchor=\"middle\" x=\"68\" y=\"-14.3\" font-family=\"Times,serif\" font-size=\"14.00\" fill=\"#000000\">b</text>\n",
       "</g>\n",
       "</g>\n",
       "</svg>\n"
      ],
      "text/plain": [
       "<graphviz.dot.Digraph at 0x7fbd2bc31f70>"
      ]
     },
     "metadata": {},
     "output_type": "display_data"
    },
    {
     "data": {
      "image/svg+xml": [
       "<?xml version=\"1.0\" encoding=\"UTF-8\" standalone=\"no\"?>\n",
       "<!DOCTYPE svg PUBLIC \"-//W3C//DTD SVG 1.1//EN\"\n",
       " \"http://www.w3.org/Graphics/SVG/1.1/DTD/svg11.dtd\">\n",
       "<!-- Generated by graphviz version 2.40.1 (20161225.0304)\n",
       " -->\n",
       "<!-- Title: %3 Pages: 1 -->\n",
       "<svg width=\"90pt\" height=\"131pt\"\n",
       " viewBox=\"0.00 0.00 90.00 131.00\" xmlns=\"http://www.w3.org/2000/svg\" xmlns:xlink=\"http://www.w3.org/1999/xlink\">\n",
       "<g id=\"graph0\" class=\"graph\" transform=\"scale(1 1) rotate(0) translate(4 127)\">\n",
       "<title>%3</title>\n",
       "<polygon fill=\"#ffffff\" stroke=\"transparent\" points=\"-4,4 -4,-127 86,-127 86,4 -4,4\"/>\n",
       "<!-- 0 -->\n",
       "<g id=\"node1\" class=\"node\">\n",
       "<title>0</title>\n",
       "<ellipse fill=\"none\" stroke=\"#000000\" cx=\"27\" cy=\"-105\" rx=\"18\" ry=\"18\"/>\n",
       "<text text-anchor=\"middle\" x=\"27\" y=\"-101.3\" font-family=\"Times,serif\" font-size=\"14.00\" fill=\"#000000\">a</text>\n",
       "</g>\n",
       "<!-- 0&#45;&gt;0 -->\n",
       "<g id=\"edge1\" class=\"edge\">\n",
       "<title>0&#45;&gt;0</title>\n",
       "<path fill=\"none\" stroke=\"#000000\" d=\"M43.6641,-112.3828C53.625,-114.0234 63,-111.5625 63,-105 63,-100.7959 59.1525,-98.2751 53.7682,-97.4375\"/>\n",
       "<polygon fill=\"#000000\" stroke=\"#000000\" points=\"53.6002,-93.9399 43.6641,-97.6172 53.7247,-100.9388 53.6002,-93.9399\"/>\n",
       "<text text-anchor=\"middle\" x=\"67.5\" y=\"-101.3\" font-family=\"Times,serif\" font-size=\"14.00\" fill=\"#000000\">a</text>\n",
       "</g>\n",
       "<!-- 1 -->\n",
       "<g id=\"node2\" class=\"node\">\n",
       "<title>1</title>\n",
       "<polygon fill=\"none\" stroke=\"#000000\" points=\"54,-36 0,-36 0,0 54,0 54,-36\"/>\n",
       "<text text-anchor=\"middle\" x=\"27\" y=\"-14.3\" font-family=\"Times,serif\" font-size=\"14.00\" fill=\"#000000\">b</text>\n",
       "</g>\n",
       "<!-- 0&#45;&gt;1 -->\n",
       "<g id=\"edge2\" class=\"edge\">\n",
       "<title>0&#45;&gt;1</title>\n",
       "<path fill=\"none\" stroke=\"#000000\" d=\"M18.1698,-89.1032C13.6735,-79.132 9.6108,-65.946 12,-54 12.5415,-51.2924 13.2912,-48.5339 14.1689,-45.8093\"/>\n",
       "<polygon fill=\"#000000\" stroke=\"#000000\" points=\"17.5225,-46.8347 17.7658,-36.2427 10.9703,-44.3712 17.5225,-46.8347\"/>\n",
       "<text text-anchor=\"middle\" x=\"17\" y=\"-57.8\" font-family=\"Times,serif\" font-size=\"14.00\" fill=\"#000000\">b</text>\n",
       "</g>\n",
       "<!-- 1&#45;&gt;0 -->\n",
       "<g id=\"edge3\" class=\"edge\">\n",
       "<title>1&#45;&gt;0</title>\n",
       "<path fill=\"none\" stroke=\"#000000\" d=\"M27,-36.0034C27,-47.7801 27,-63.4102 27,-76.8156\"/>\n",
       "<polygon fill=\"#000000\" stroke=\"#000000\" points=\"23.5001,-76.9735 27,-86.9735 30.5001,-76.9736 23.5001,-76.9735\"/>\n",
       "<text text-anchor=\"middle\" x=\"31.5\" y=\"-57.8\" font-family=\"Times,serif\" font-size=\"14.00\" fill=\"#000000\">a</text>\n",
       "</g>\n",
       "<!-- 1&#45;&gt;1 -->\n",
       "<g id=\"edge4\" class=\"edge\">\n",
       "<title>1&#45;&gt;1</title>\n",
       "<path fill=\"none\" stroke=\"#000000\" d=\"M54.2408,-25.8673C64.0239,-26.0365 72,-23.4141 72,-18 72,-14.7008 69.0382,-12.4382 64.5105,-11.2123\"/>\n",
       "<polygon fill=\"#000000\" stroke=\"#000000\" points=\"64.5519,-7.6975 54.2408,-10.1327 63.82,-14.6591 64.5519,-7.6975\"/>\n",
       "<text text-anchor=\"middle\" x=\"77\" y=\"-14.3\" font-family=\"Times,serif\" font-size=\"14.00\" fill=\"#000000\">b</text>\n",
       "</g>\n",
       "</g>\n",
       "</svg>\n"
      ],
      "text/plain": [
       "<graphviz.dot.Digraph at 0x7fbd2bc184f0>"
      ]
     },
     "metadata": {},
     "output_type": "display_data"
    },
    {
     "data": {
      "image/svg+xml": [
       "<?xml version=\"1.0\" encoding=\"UTF-8\" standalone=\"no\"?>\n",
       "<!DOCTYPE svg PUBLIC \"-//W3C//DTD SVG 1.1//EN\"\n",
       " \"http://www.w3.org/Graphics/SVG/1.1/DTD/svg11.dtd\">\n",
       "<!-- Generated by graphviz version 2.40.1 (20161225.0304)\n",
       " -->\n",
       "<!-- Title: %3 Pages: 1 -->\n",
       "<svg width=\"108pt\" height=\"131pt\"\n",
       " viewBox=\"0.00 0.00 108.00 131.00\" xmlns=\"http://www.w3.org/2000/svg\" xmlns:xlink=\"http://www.w3.org/1999/xlink\">\n",
       "<g id=\"graph0\" class=\"graph\" transform=\"scale(1 1) rotate(0) translate(4 127)\">\n",
       "<title>%3</title>\n",
       "<polygon fill=\"#ffffff\" stroke=\"transparent\" points=\"-4,4 -4,-127 104,-127 104,4 -4,4\"/>\n",
       "<!-- 0 -->\n",
       "<g id=\"node1\" class=\"node\">\n",
       "<title>0</title>\n",
       "<polygon fill=\"none\" stroke=\"#000000\" points=\"54,-123 0,-123 0,-87 54,-87 54,-123\"/>\n",
       "<text text-anchor=\"middle\" x=\"27\" y=\"-101.3\" font-family=\"Times,serif\" font-size=\"14.00\" fill=\"#000000\">a</text>\n",
       "</g>\n",
       "<!-- 0&#45;&gt;0 -->\n",
       "<g id=\"edge1\" class=\"edge\">\n",
       "<title>0&#45;&gt;0</title>\n",
       "<path fill=\"none\" stroke=\"#000000\" d=\"M54.2408,-112.8673C64.0239,-113.0365 72,-110.4141 72,-105 72,-101.7008 69.0382,-99.4382 64.5105,-98.2123\"/>\n",
       "<polygon fill=\"#000000\" stroke=\"#000000\" points=\"64.5519,-94.6975 54.2408,-97.1327 63.82,-101.6591 64.5519,-94.6975\"/>\n",
       "<text text-anchor=\"middle\" x=\"76.5\" y=\"-101.3\" font-family=\"Times,serif\" font-size=\"14.00\" fill=\"#000000\">a</text>\n",
       "</g>\n",
       "<!-- 1 -->\n",
       "<g id=\"node2\" class=\"node\">\n",
       "<title>1</title>\n",
       "<ellipse fill=\"none\" stroke=\"#000000\" cx=\"27\" cy=\"-18\" rx=\"18\" ry=\"18\"/>\n",
       "<text text-anchor=\"middle\" x=\"27\" y=\"-14.3\" font-family=\"Times,serif\" font-size=\"14.00\" fill=\"#000000\">b</text>\n",
       "</g>\n",
       "<!-- 0&#45;&gt;1 -->\n",
       "<g id=\"edge2\" class=\"edge\">\n",
       "<title>0&#45;&gt;1</title>\n",
       "<path fill=\"none\" stroke=\"#000000\" d=\"M27,-86.9735C27,-75.1918 27,-59.5607 27,-46.1581\"/>\n",
       "<polygon fill=\"#000000\" stroke=\"#000000\" points=\"30.5001,-46.0033 27,-36.0034 23.5001,-46.0034 30.5001,-46.0033\"/>\n",
       "<text text-anchor=\"middle\" x=\"32\" y=\"-57.8\" font-family=\"Times,serif\" font-size=\"14.00\" fill=\"#000000\">b</text>\n",
       "</g>\n",
       "<!-- 1&#45;&gt;1 -->\n",
       "<g id=\"edge3\" class=\"edge\">\n",
       "<title>1&#45;&gt;1</title>\n",
       "<path fill=\"none\" stroke=\"#000000\" d=\"M44.7817,-21.775C54.3149,-22.4165 63,-21.1582 63,-18 63,-16.0755 59.7749,-14.8564 55.0981,-14.3429\"/>\n",
       "<polygon fill=\"#000000\" stroke=\"#000000\" points=\"54.8211,-10.8396 44.7817,-14.225 54.741,-17.8391 54.8211,-10.8396\"/>\n",
       "<text text-anchor=\"middle\" x=\"67.5\" y=\"-14.3\" font-family=\"Times,serif\" font-size=\"14.00\" fill=\"#000000\">a</text>\n",
       "</g>\n",
       "<!-- 1&#45;&gt;1 -->\n",
       "<g id=\"edge4\" class=\"edge\">\n",
       "<title>1&#45;&gt;1</title>\n",
       "<path fill=\"none\" stroke=\"#000000\" d=\"M44.1418,-24.1447C61.585,-27.7592 81,-25.7109 81,-18 81,-11.7951 68.4283,-9.2569 54.4287,-10.3855\"/>\n",
       "<polygon fill=\"#000000\" stroke=\"#000000\" points=\"53.5461,-6.976 44.1418,-11.8553 54.5363,-13.9056 53.5461,-6.976\"/>\n",
       "<text text-anchor=\"middle\" x=\"86\" y=\"-14.3\" font-family=\"Times,serif\" font-size=\"14.00\" fill=\"#000000\">b</text>\n",
       "</g>\n",
       "</g>\n",
       "</svg>\n"
      ],
      "text/plain": [
       "<graphviz.dot.Digraph at 0x7fbd2bccf9d0>"
      ]
     },
     "metadata": {},
     "output_type": "display_data"
    },
    {
     "data": {
      "image/svg+xml": [
       "<?xml version=\"1.0\" encoding=\"UTF-8\" standalone=\"no\"?>\n",
       "<!DOCTYPE svg PUBLIC \"-//W3C//DTD SVG 1.1//EN\"\n",
       " \"http://www.w3.org/Graphics/SVG/1.1/DTD/svg11.dtd\">\n",
       "<!-- Generated by graphviz version 2.40.1 (20161225.0304)\n",
       " -->\n",
       "<!-- Title: %3 Pages: 1 -->\n",
       "<svg width=\"84pt\" height=\"131pt\"\n",
       " viewBox=\"0.00 0.00 84.33 131.00\" xmlns=\"http://www.w3.org/2000/svg\" xmlns:xlink=\"http://www.w3.org/1999/xlink\">\n",
       "<g id=\"graph0\" class=\"graph\" transform=\"scale(1 1) rotate(0) translate(4 127)\">\n",
       "<title>%3</title>\n",
       "<polygon fill=\"#ffffff\" stroke=\"transparent\" points=\"-4,4 -4,-127 80.3306,-127 80.3306,4 -4,4\"/>\n",
       "<!-- 0 -->\n",
       "<g id=\"node1\" class=\"node\">\n",
       "<title>0</title>\n",
       "<polygon fill=\"none\" stroke=\"#000000\" points=\"76.3306,-123 22.3306,-123 22.3306,-87 76.3306,-87 76.3306,-123\"/>\n",
       "<text text-anchor=\"middle\" x=\"49.3306\" y=\"-101.3\" font-family=\"Times,serif\" font-size=\"14.00\" fill=\"#000000\">a</text>\n",
       "</g>\n",
       "<!-- 1 -->\n",
       "<g id=\"node2\" class=\"node\">\n",
       "<title>1</title>\n",
       "<ellipse fill=\"none\" stroke=\"#000000\" cx=\"49.3306\" cy=\"-18\" rx=\"18\" ry=\"18\"/>\n",
       "<text text-anchor=\"middle\" x=\"49.3306\" y=\"-14.3\" font-family=\"Times,serif\" font-size=\"14.00\" fill=\"#000000\">b</text>\n",
       "</g>\n",
       "<!-- 0&#45;&gt;1 -->\n",
       "<g id=\"edge1\" class=\"edge\">\n",
       "<title>0&#45;&gt;1</title>\n",
       "<path fill=\"none\" stroke=\"#000000\" d=\"M22.3204,-90.759C14.3999,-85.1221 6.6986,-77.8477 2.3306,-69 -5.0407,-54.0686 9.2687,-40.3859 23.9854,-30.9603\"/>\n",
       "<polygon fill=\"#000000\" stroke=\"#000000\" points=\"26.1546,-33.7458 33.011,-25.6686 22.6141,-27.7071 26.1546,-33.7458\"/>\n",
       "<text text-anchor=\"middle\" x=\"6.8306\" y=\"-57.8\" font-family=\"Times,serif\" font-size=\"14.00\" fill=\"#000000\">a</text>\n",
       "</g>\n",
       "<!-- 0&#45;&gt;1 -->\n",
       "<g id=\"edge2\" class=\"edge\">\n",
       "<title>0&#45;&gt;1</title>\n",
       "<path fill=\"none\" stroke=\"#000000\" d=\"M39.4886,-86.7836C35.4256,-77.1412 32.1224,-65.041 34.3306,-54 35.029,-50.5081 36.0735,-46.9315 37.2925,-43.4525\"/>\n",
       "<polygon fill=\"#000000\" stroke=\"#000000\" points=\"40.5863,-44.6417 41.0473,-34.0569 34.0862,-42.044 40.5863,-44.6417\"/>\n",
       "<text text-anchor=\"middle\" x=\"39.3306\" y=\"-57.8\" font-family=\"Times,serif\" font-size=\"14.00\" fill=\"#000000\">b</text>\n",
       "</g>\n",
       "<!-- 1&#45;&gt;0 -->\n",
       "<g id=\"edge3\" class=\"edge\">\n",
       "<title>1&#45;&gt;0</title>\n",
       "<path fill=\"none\" stroke=\"#000000\" d=\"M49.3306,-36.0034C49.3306,-47.7801 49.3306,-63.4102 49.3306,-76.8156\"/>\n",
       "<polygon fill=\"#000000\" stroke=\"#000000\" points=\"45.8307,-76.9735 49.3306,-86.9735 52.8307,-76.9736 45.8307,-76.9735\"/>\n",
       "<text text-anchor=\"middle\" x=\"53.8306\" y=\"-57.8\" font-family=\"Times,serif\" font-size=\"14.00\" fill=\"#000000\">a</text>\n",
       "</g>\n",
       "<!-- 1&#45;&gt;0 -->\n",
       "<g id=\"edge4\" class=\"edge\">\n",
       "<title>1&#45;&gt;0</title>\n",
       "<path fill=\"none\" stroke=\"#000000\" d=\"M57.1666,-34.399C60.9942,-44.3307 64.3785,-57.2994 62.3306,-69 61.8634,-71.6693 61.2152,-74.4018 60.4554,-77.1095\"/>\n",
       "<polygon fill=\"#000000\" stroke=\"#000000\" points=\"57.1169,-76.0583 57.3395,-86.6508 63.771,-78.2314 57.1169,-76.0583\"/>\n",
       "<text text-anchor=\"middle\" x=\"67.3306\" y=\"-57.8\" font-family=\"Times,serif\" font-size=\"14.00\" fill=\"#000000\">b</text>\n",
       "</g>\n",
       "</g>\n",
       "</svg>\n"
      ],
      "text/plain": [
       "<graphviz.dot.Digraph at 0x7fbd29b738e0>"
      ]
     },
     "metadata": {},
     "output_type": "display_data"
    },
    {
     "data": {
      "image/svg+xml": [
       "<?xml version=\"1.0\" encoding=\"UTF-8\" standalone=\"no\"?>\n",
       "<!DOCTYPE svg PUBLIC \"-//W3C//DTD SVG 1.1//EN\"\n",
       " \"http://www.w3.org/Graphics/SVG/1.1/DTD/svg11.dtd\">\n",
       "<!-- Generated by graphviz version 2.40.1 (20161225.0304)\n",
       " -->\n",
       "<!-- Title: %3 Pages: 1 -->\n",
       "<svg width=\"84pt\" height=\"131pt\"\n",
       " viewBox=\"0.00 0.00 84.03 131.00\" xmlns=\"http://www.w3.org/2000/svg\" xmlns:xlink=\"http://www.w3.org/1999/xlink\">\n",
       "<g id=\"graph0\" class=\"graph\" transform=\"scale(1 1) rotate(0) translate(4 127)\">\n",
       "<title>%3</title>\n",
       "<polygon fill=\"#ffffff\" stroke=\"transparent\" points=\"-4,4 -4,-127 80.0287,-127 80.0287,4 -4,4\"/>\n",
       "<!-- 0 -->\n",
       "<g id=\"node1\" class=\"node\">\n",
       "<title>0</title>\n",
       "<ellipse fill=\"none\" stroke=\"#000000\" cx=\"49.0287\" cy=\"-105\" rx=\"18\" ry=\"18\"/>\n",
       "<text text-anchor=\"middle\" x=\"49.0287\" y=\"-101.3\" font-family=\"Times,serif\" font-size=\"14.00\" fill=\"#000000\">a</text>\n",
       "</g>\n",
       "<!-- 1 -->\n",
       "<g id=\"node2\" class=\"node\">\n",
       "<title>1</title>\n",
       "<polygon fill=\"none\" stroke=\"#000000\" points=\"76.0287,-36 22.0287,-36 22.0287,0 76.0287,0 76.0287,-36\"/>\n",
       "<text text-anchor=\"middle\" x=\"49.0287\" y=\"-14.3\" font-family=\"Times,serif\" font-size=\"14.00\" fill=\"#000000\">b</text>\n",
       "</g>\n",
       "<!-- 0&#45;&gt;1 -->\n",
       "<g id=\"edge1\" class=\"edge\">\n",
       "<title>0&#45;&gt;1</title>\n",
       "<path fill=\"none\" stroke=\"#000000\" d=\"M32.2792,-97.2118C21.4748,-91.1861 8.3077,-81.7186 2.0287,-69 -3.6204,-57.5573 3.4637,-46.8479 13.706,-38.2259\"/>\n",
       "<polygon fill=\"#000000\" stroke=\"#000000\" points=\"16.0593,-40.8376 21.9955,-32.0619 11.8823,-35.2204 16.0593,-40.8376\"/>\n",
       "<text text-anchor=\"middle\" x=\"6.5287\" y=\"-57.8\" font-family=\"Times,serif\" font-size=\"14.00\" fill=\"#000000\">a</text>\n",
       "</g>\n",
       "<!-- 0&#45;&gt;1 -->\n",
       "<g id=\"edge2\" class=\"edge\">\n",
       "<title>0&#45;&gt;1</title>\n",
       "<path fill=\"none\" stroke=\"#000000\" d=\"M40.1985,-89.1032C35.7022,-79.132 31.6395,-65.946 34.0287,-54 34.5702,-51.2924 35.3199,-48.5339 36.1976,-45.8093\"/>\n",
       "<polygon fill=\"#000000\" stroke=\"#000000\" points=\"39.5512,-46.8347 39.7945,-36.2427 32.999,-44.3712 39.5512,-46.8347\"/>\n",
       "<text text-anchor=\"middle\" x=\"39.0287\" y=\"-57.8\" font-family=\"Times,serif\" font-size=\"14.00\" fill=\"#000000\">b</text>\n",
       "</g>\n",
       "<!-- 1&#45;&gt;0 -->\n",
       "<g id=\"edge3\" class=\"edge\">\n",
       "<title>1&#45;&gt;0</title>\n",
       "<path fill=\"none\" stroke=\"#000000\" d=\"M49.0287,-36.0034C49.0287,-47.7801 49.0287,-63.4102 49.0287,-76.8156\"/>\n",
       "<polygon fill=\"#000000\" stroke=\"#000000\" points=\"45.5288,-76.9735 49.0287,-86.9735 52.5288,-76.9736 45.5288,-76.9735\"/>\n",
       "<text text-anchor=\"middle\" x=\"53.5287\" y=\"-57.8\" font-family=\"Times,serif\" font-size=\"14.00\" fill=\"#000000\">a</text>\n",
       "</g>\n",
       "<!-- 1&#45;&gt;0 -->\n",
       "<g id=\"edge4\" class=\"edge\">\n",
       "<title>1&#45;&gt;0</title>\n",
       "<path fill=\"none\" stroke=\"#000000\" d=\"M57.5651,-36.2661C61.0882,-45.922 63.9506,-58.0194 62.0287,-69 61.4559,-72.2728 60.6109,-75.6404 59.622,-78.941\"/>\n",
       "<polygon fill=\"#000000\" stroke=\"#000000\" points=\"56.284,-77.8851 56.3513,-88.4798 62.9056,-80.1556 56.284,-77.8851\"/>\n",
       "<text text-anchor=\"middle\" x=\"67.0287\" y=\"-57.8\" font-family=\"Times,serif\" font-size=\"14.00\" fill=\"#000000\">b</text>\n",
       "</g>\n",
       "</g>\n",
       "</svg>\n"
      ],
      "text/plain": [
       "<graphviz.dot.Digraph at 0x7fbd2be37f10>"
      ]
     },
     "metadata": {},
     "output_type": "display_data"
    },
    {
     "data": {
      "image/svg+xml": [
       "<?xml version=\"1.0\" encoding=\"UTF-8\" standalone=\"no\"?>\n",
       "<!DOCTYPE svg PUBLIC \"-//W3C//DTD SVG 1.1//EN\"\n",
       " \"http://www.w3.org/Graphics/SVG/1.1/DTD/svg11.dtd\">\n",
       "<!-- Generated by graphviz version 2.40.1 (20161225.0304)\n",
       " -->\n",
       "<!-- Title: %3 Pages: 1 -->\n",
       "<svg width=\"86pt\" height=\"131pt\"\n",
       " viewBox=\"0.00 0.00 86.46 131.00\" xmlns=\"http://www.w3.org/2000/svg\" xmlns:xlink=\"http://www.w3.org/1999/xlink\">\n",
       "<g id=\"graph0\" class=\"graph\" transform=\"scale(1 1) rotate(0) translate(4 127)\">\n",
       "<title>%3</title>\n",
       "<polygon fill=\"#ffffff\" stroke=\"transparent\" points=\"-4,4 -4,-127 82.4568,-127 82.4568,4 -4,4\"/>\n",
       "<!-- 0 -->\n",
       "<g id=\"node1\" class=\"node\">\n",
       "<title>0</title>\n",
       "<polygon fill=\"none\" stroke=\"#000000\" points=\"59.4568,-123 5.4568,-123 5.4568,-87 59.4568,-87 59.4568,-123\"/>\n",
       "<text text-anchor=\"middle\" x=\"32.4568\" y=\"-101.3\" font-family=\"Times,serif\" font-size=\"14.00\" fill=\"#000000\">a</text>\n",
       "</g>\n",
       "<!-- 1 -->\n",
       "<g id=\"node2\" class=\"node\">\n",
       "<title>1</title>\n",
       "<ellipse fill=\"none\" stroke=\"#000000\" cx=\"32.4568\" cy=\"-18\" rx=\"18\" ry=\"18\"/>\n",
       "<text text-anchor=\"middle\" x=\"32.4568\" y=\"-14.3\" font-family=\"Times,serif\" font-size=\"14.00\" fill=\"#000000\">b</text>\n",
       "</g>\n",
       "<!-- 0&#45;&gt;1 -->\n",
       "<g id=\"edge1\" class=\"edge\">\n",
       "<title>0&#45;&gt;1</title>\n",
       "<path fill=\"none\" stroke=\"#000000\" d=\"M12.5447,-86.8803C8.0345,-81.6038 3.868,-75.4951 1.4568,-69 -2.7267,-57.7304 3.2483,-46.201 11.0337,-36.9618\"/>\n",
       "<polygon fill=\"#000000\" stroke=\"#000000\" points=\"13.7778,-39.1551 18.1315,-29.4962 8.7046,-34.3319 13.7778,-39.1551\"/>\n",
       "<text text-anchor=\"middle\" x=\"5.9568\" y=\"-57.8\" font-family=\"Times,serif\" font-size=\"14.00\" fill=\"#000000\">a</text>\n",
       "</g>\n",
       "<!-- 0&#45;&gt;1 -->\n",
       "<g id=\"edge2\" class=\"edge\">\n",
       "<title>0&#45;&gt;1</title>\n",
       "<path fill=\"none\" stroke=\"#000000\" d=\"M32.4568,-86.9735C32.4568,-75.1918 32.4568,-59.5607 32.4568,-46.1581\"/>\n",
       "<polygon fill=\"#000000\" stroke=\"#000000\" points=\"35.9569,-46.0033 32.4568,-36.0034 28.9569,-46.0034 35.9569,-46.0033\"/>\n",
       "<text text-anchor=\"middle\" x=\"37.4568\" y=\"-57.8\" font-family=\"Times,serif\" font-size=\"14.00\" fill=\"#000000\">b</text>\n",
       "</g>\n",
       "<!-- 1&#45;&gt;0 -->\n",
       "<g id=\"edge3\" class=\"edge\">\n",
       "<title>1&#45;&gt;0</title>\n",
       "<path fill=\"none\" stroke=\"#000000\" d=\"M38.7738,-34.9737C40.677,-40.9055 42.5107,-47.6657 43.4568,-54 44.5664,-61.4285 43.8031,-69.3955 42.2637,-76.7728\"/>\n",
       "<polygon fill=\"#000000\" stroke=\"#000000\" points=\"38.8138,-76.1328 39.6851,-86.6917 45.5886,-77.8941 38.8138,-76.1328\"/>\n",
       "<text text-anchor=\"middle\" x=\"47.9568\" y=\"-57.8\" font-family=\"Times,serif\" font-size=\"14.00\" fill=\"#000000\">a</text>\n",
       "</g>\n",
       "<!-- 1&#45;&gt;1 -->\n",
       "<g id=\"edge4\" class=\"edge\">\n",
       "<title>1&#45;&gt;1</title>\n",
       "<path fill=\"none\" stroke=\"#000000\" d=\"M49.1209,-25.3828C59.0818,-27.0234 68.4568,-24.5625 68.4568,-18 68.4568,-13.7959 64.6093,-11.2751 59.2251,-10.4375\"/>\n",
       "<polygon fill=\"#000000\" stroke=\"#000000\" points=\"59.0571,-6.9399 49.1209,-10.6172 59.1816,-13.9388 59.0571,-6.9399\"/>\n",
       "<text text-anchor=\"middle\" x=\"73.4568\" y=\"-14.3\" font-family=\"Times,serif\" font-size=\"14.00\" fill=\"#000000\">b</text>\n",
       "</g>\n",
       "</g>\n",
       "</svg>\n"
      ],
      "text/plain": [
       "<graphviz.dot.Digraph at 0x7fbd29d04370>"
      ]
     },
     "metadata": {},
     "output_type": "display_data"
    },
    {
     "data": {
      "image/svg+xml": [
       "<?xml version=\"1.0\" encoding=\"UTF-8\" standalone=\"no\"?>\n",
       "<!DOCTYPE svg PUBLIC \"-//W3C//DTD SVG 1.1//EN\"\n",
       " \"http://www.w3.org/Graphics/SVG/1.1/DTD/svg11.dtd\">\n",
       "<!-- Generated by graphviz version 2.40.1 (20161225.0304)\n",
       " -->\n",
       "<!-- Title: %3 Pages: 1 -->\n",
       "<svg width=\"96pt\" height=\"131pt\"\n",
       " viewBox=\"0.00 0.00 95.71 131.00\" xmlns=\"http://www.w3.org/2000/svg\" xmlns:xlink=\"http://www.w3.org/1999/xlink\">\n",
       "<g id=\"graph0\" class=\"graph\" transform=\"scale(1 1) rotate(0) translate(4 127)\">\n",
       "<title>%3</title>\n",
       "<polygon fill=\"#ffffff\" stroke=\"transparent\" points=\"-4,4 -4,-127 91.7065,-127 91.7065,4 -4,4\"/>\n",
       "<!-- 0 -->\n",
       "<g id=\"node1\" class=\"node\">\n",
       "<title>0</title>\n",
       "<ellipse fill=\"none\" stroke=\"#000000\" cx=\"32.7065\" cy=\"-105\" rx=\"18\" ry=\"18\"/>\n",
       "<text text-anchor=\"middle\" x=\"32.7065\" y=\"-101.3\" font-family=\"Times,serif\" font-size=\"14.00\" fill=\"#000000\">a</text>\n",
       "</g>\n",
       "<!-- 1 -->\n",
       "<g id=\"node2\" class=\"node\">\n",
       "<title>1</title>\n",
       "<polygon fill=\"none\" stroke=\"#000000\" points=\"59.7065,-36 5.7065,-36 5.7065,0 59.7065,0 59.7065,-36\"/>\n",
       "<text text-anchor=\"middle\" x=\"32.7065\" y=\"-14.3\" font-family=\"Times,serif\" font-size=\"14.00\" fill=\"#000000\">b</text>\n",
       "</g>\n",
       "<!-- 0&#45;&gt;1 -->\n",
       "<g id=\"edge1\" class=\"edge\">\n",
       "<title>0&#45;&gt;1</title>\n",
       "<path fill=\"none\" stroke=\"#000000\" d=\"M18.6717,-93.1708C12.1778,-86.7688 5.151,-78.2788 1.7065,-69 -1.4036,-60.6218 1.1008,-52.1 5.7895,-44.4824\"/>\n",
       "<polygon fill=\"#000000\" stroke=\"#000000\" points=\"8.9269,-46.1293 12.0916,-36.0181 3.3122,-41.9489 8.9269,-46.1293\"/>\n",
       "<text text-anchor=\"middle\" x=\"6.2065\" y=\"-57.8\" font-family=\"Times,serif\" font-size=\"14.00\" fill=\"#000000\">a</text>\n",
       "</g>\n",
       "<!-- 0&#45;&gt;1 -->\n",
       "<g id=\"edge2\" class=\"edge\">\n",
       "<title>0&#45;&gt;1</title>\n",
       "<path fill=\"none\" stroke=\"#000000\" d=\"M32.7065,-86.9735C32.7065,-75.1918 32.7065,-59.5607 32.7065,-46.1581\"/>\n",
       "<polygon fill=\"#000000\" stroke=\"#000000\" points=\"36.2066,-46.0033 32.7065,-36.0034 29.2066,-46.0034 36.2066,-46.0033\"/>\n",
       "<text text-anchor=\"middle\" x=\"37.7065\" y=\"-57.8\" font-family=\"Times,serif\" font-size=\"14.00\" fill=\"#000000\">b</text>\n",
       "</g>\n",
       "<!-- 1&#45;&gt;0 -->\n",
       "<g id=\"edge3\" class=\"edge\">\n",
       "<title>1&#45;&gt;0</title>\n",
       "<path fill=\"none\" stroke=\"#000000\" d=\"M39.3721,-36.0722C41.1478,-41.7317 42.8183,-48.0535 43.7065,-54 44.8974,-61.973 43.9308,-70.5663 42.1628,-78.3851\"/>\n",
       "<polygon fill=\"#000000\" stroke=\"#000000\" points=\"38.7681,-77.5299 39.4911,-88.1001 45.5175,-79.3861 38.7681,-77.5299\"/>\n",
       "<text text-anchor=\"middle\" x=\"48.2065\" y=\"-57.8\" font-family=\"Times,serif\" font-size=\"14.00\" fill=\"#000000\">a</text>\n",
       "</g>\n",
       "<!-- 1&#45;&gt;1 -->\n",
       "<g id=\"edge4\" class=\"edge\">\n",
       "<title>1&#45;&gt;1</title>\n",
       "<path fill=\"none\" stroke=\"#000000\" d=\"M59.9473,-25.8673C69.7305,-26.0365 77.7065,-23.4141 77.7065,-18 77.7065,-14.7008 74.7447,-12.4382 70.217,-11.2123\"/>\n",
       "<polygon fill=\"#000000\" stroke=\"#000000\" points=\"70.2585,-7.6975 59.9473,-10.1327 69.5265,-14.6591 70.2585,-7.6975\"/>\n",
       "<text text-anchor=\"middle\" x=\"82.7065\" y=\"-14.3\" font-family=\"Times,serif\" font-size=\"14.00\" fill=\"#000000\">b</text>\n",
       "</g>\n",
       "</g>\n",
       "</svg>\n"
      ],
      "text/plain": [
       "<graphviz.dot.Digraph at 0x7fbd2bb40a30>"
      ]
     },
     "metadata": {},
     "output_type": "display_data"
    },
    {
     "data": {
      "image/svg+xml": [
       "<?xml version=\"1.0\" encoding=\"UTF-8\" standalone=\"no\"?>\n",
       "<!DOCTYPE svg PUBLIC \"-//W3C//DTD SVG 1.1//EN\"\n",
       " \"http://www.w3.org/Graphics/SVG/1.1/DTD/svg11.dtd\">\n",
       "<!-- Generated by graphviz version 2.40.1 (20161225.0304)\n",
       " -->\n",
       "<!-- Title: %3 Pages: 1 -->\n",
       "<svg width=\"108pt\" height=\"131pt\"\n",
       " viewBox=\"0.00 0.00 108.00 131.00\" xmlns=\"http://www.w3.org/2000/svg\" xmlns:xlink=\"http://www.w3.org/1999/xlink\">\n",
       "<g id=\"graph0\" class=\"graph\" transform=\"scale(1 1) rotate(0) translate(4 127)\">\n",
       "<title>%3</title>\n",
       "<polygon fill=\"#ffffff\" stroke=\"transparent\" points=\"-4,4 -4,-127 104,-127 104,4 -4,4\"/>\n",
       "<!-- 0 -->\n",
       "<g id=\"node1\" class=\"node\">\n",
       "<title>0</title>\n",
       "<polygon fill=\"none\" stroke=\"#000000\" points=\"54,-123 0,-123 0,-87 54,-87 54,-123\"/>\n",
       "<text text-anchor=\"middle\" x=\"27\" y=\"-101.3\" font-family=\"Times,serif\" font-size=\"14.00\" fill=\"#000000\">a</text>\n",
       "</g>\n",
       "<!-- 1 -->\n",
       "<g id=\"node2\" class=\"node\">\n",
       "<title>1</title>\n",
       "<ellipse fill=\"none\" stroke=\"#000000\" cx=\"27\" cy=\"-18\" rx=\"18\" ry=\"18\"/>\n",
       "<text text-anchor=\"middle\" x=\"27\" y=\"-14.3\" font-family=\"Times,serif\" font-size=\"14.00\" fill=\"#000000\">b</text>\n",
       "</g>\n",
       "<!-- 0&#45;&gt;1 -->\n",
       "<g id=\"edge1\" class=\"edge\">\n",
       "<title>0&#45;&gt;1</title>\n",
       "<path fill=\"none\" stroke=\"#000000\" d=\"M17.158,-86.7836C13.095,-77.1412 9.7918,-65.041 12,-54 12.6984,-50.5081 13.7429,-46.9315 14.9619,-43.4525\"/>\n",
       "<polygon fill=\"#000000\" stroke=\"#000000\" points=\"18.2557,-44.6417 18.7167,-34.0569 11.7556,-42.044 18.2557,-44.6417\"/>\n",
       "<text text-anchor=\"middle\" x=\"16.5\" y=\"-57.8\" font-family=\"Times,serif\" font-size=\"14.00\" fill=\"#000000\">a</text>\n",
       "</g>\n",
       "<!-- 0&#45;&gt;1 -->\n",
       "<g id=\"edge2\" class=\"edge\">\n",
       "<title>0&#45;&gt;1</title>\n",
       "<path fill=\"none\" stroke=\"#000000\" d=\"M27,-86.9735C27,-75.1918 27,-59.5607 27,-46.1581\"/>\n",
       "<polygon fill=\"#000000\" stroke=\"#000000\" points=\"30.5001,-46.0033 27,-36.0034 23.5001,-46.0034 30.5001,-46.0033\"/>\n",
       "<text text-anchor=\"middle\" x=\"32\" y=\"-57.8\" font-family=\"Times,serif\" font-size=\"14.00\" fill=\"#000000\">b</text>\n",
       "</g>\n",
       "<!-- 1&#45;&gt;1 -->\n",
       "<g id=\"edge3\" class=\"edge\">\n",
       "<title>1&#45;&gt;1</title>\n",
       "<path fill=\"none\" stroke=\"#000000\" d=\"M44.7817,-21.775C54.3149,-22.4165 63,-21.1582 63,-18 63,-16.0755 59.7749,-14.8564 55.0981,-14.3429\"/>\n",
       "<polygon fill=\"#000000\" stroke=\"#000000\" points=\"54.8211,-10.8396 44.7817,-14.225 54.741,-17.8391 54.8211,-10.8396\"/>\n",
       "<text text-anchor=\"middle\" x=\"67.5\" y=\"-14.3\" font-family=\"Times,serif\" font-size=\"14.00\" fill=\"#000000\">a</text>\n",
       "</g>\n",
       "<!-- 1&#45;&gt;1 -->\n",
       "<g id=\"edge4\" class=\"edge\">\n",
       "<title>1&#45;&gt;1</title>\n",
       "<path fill=\"none\" stroke=\"#000000\" d=\"M44.1418,-24.1447C61.585,-27.7592 81,-25.7109 81,-18 81,-11.7951 68.4283,-9.2569 54.4287,-10.3855\"/>\n",
       "<polygon fill=\"#000000\" stroke=\"#000000\" points=\"53.5461,-6.976 44.1418,-11.8553 54.5363,-13.9056 53.5461,-6.976\"/>\n",
       "<text text-anchor=\"middle\" x=\"86\" y=\"-14.3\" font-family=\"Times,serif\" font-size=\"14.00\" fill=\"#000000\">b</text>\n",
       "</g>\n",
       "</g>\n",
       "</svg>\n"
      ],
      "text/plain": [
       "<graphviz.dot.Digraph at 0x7fbd2bb40220>"
      ]
     },
     "metadata": {},
     "output_type": "display_data"
    },
    {
     "name": "stdout",
     "output_type": "stream",
     "text": [
      "defaultdict(<function <lambda> at 0x7fbe59cc1e50>, {1: 3, 2: 12, 3: 286})\n"
     ]
    }
   ],
   "source": [
    "from collections import defaultdict\n",
    "counts = defaultdict(lambda: 0)\n",
    "print(counts)\n",
    "\n",
    "\n",
    "for i, g in enumerate(deduplicated):\n",
    "    a = automataBattle.automataFromNetworkx(g, symbols)\n",
    "    counts[len(a.states)] += 1\n",
    "    if len(a.states) < 3:\n",
    "        display(a.toDot())\n",
    "print(counts)"
   ]
  },
  {
   "cell_type": "code",
   "execution_count": 61,
   "metadata": {},
   "outputs": [],
   "source": [
    "def matmul00(a, b):\n",
    "    ah, aw = a.shape\n",
    "    bh, bw = b.shape\n",
    "    assert(aw==bh)\n",
    "    return torch.einsum(\"ik,kj->ij\", a, b)"
   ]
  },
  {
   "cell_type": "code",
   "execution_count": 169,
   "metadata": {},
   "outputs": [],
   "source": [
    "def matmul0(a, b):\n",
    "    ah, aw = a.shape\n",
    "    bh, bw = b.shape\n",
    "    assert(aw==bh)\n",
    "    c = torch.zeros([ah,bw])\n",
    "    for y in range(ah):\n",
    "        c[y] = ((a[y][:,None]*b).sum(axis=0)) # access row, then turn it into a column, then multiply will broadcast it into a repeated column as we want. Now we want to sum along axis=0 since that's vertical, which is the dot product we are doing.\n",
    "    return c"
   ]
  },
  {
   "cell_type": "code",
   "execution_count": 170,
   "metadata": {},
   "outputs": [],
   "source": [
    "def matmul1(a, b):\n",
    "    ah, aw = a.shape\n",
    "    bh, bw = b.shape\n",
    "    assert(aw==bh)\n",
    "    c = torch.zeros([ah,bw])\n",
    "    for y in range(ah):\n",
    "        c[y] = ((a[y]*b.T).sum(axis=1)) # broadcast and multiply by each column (now rows because .T), then sum each row. Axis=1 because we are looping through columsn to do summing, not rows (which is axis=0)\n",
    "    return c"
   ]
  },
  {
   "cell_type": "code",
   "execution_count": 171,
   "metadata": {},
   "outputs": [],
   "source": [
    "def matmul2(a, b):\n",
    "    ah, aw = a.shape\n",
    "    bh, bw = b.shape\n",
    "    assert(aw==bh)\n",
    "    c = torch.zeros([ah,bw])\n",
    "    for y in range(ah):\n",
    "        for x in range(bw):\n",
    "            for k in range(aw):\n",
    "                c[y,x] += a[y,k]*b[k,x]\n",
    "    return c"
   ]
  },
  {
   "cell_type": "code",
   "execution_count": 172,
   "metadata": {},
   "outputs": [],
   "source": [
    "def matmul3(a, b):\n",
    "    ah, aw = a.shape\n",
    "    bh, bw = b.shape\n",
    "    assert(aw==bh)\n",
    "    c = torch.zeros([ah,bw])\n",
    "    for y in range(ah):\n",
    "        for x in range(bw):\n",
    "            c[y,x] = (a[y]*b[:,x]).sum()\n",
    "    return c"
   ]
  },
  {
   "cell_type": "code",
   "execution_count": 2,
   "metadata": {},
   "outputs": [
    {
     "name": "stdout",
     "output_type": "stream",
     "text": [
      "tensor([[4, 4, 4],\n",
      "        [4, 4, 4]])\n"
     ]
    },
    {
     "data": {
      "text/plain": [
       "(tensor([[10,  2,  3],\n",
       "         [-2,  5,  1]]),\n",
       " tensor([[10, 10],\n",
       "         [ 2,  2],\n",
       "         [ 3,  3]]))"
      ]
     },
     "execution_count": 2,
     "metadata": {},
     "output_type": "execute_result"
    }
   ],
   "source": [
    "import torch\n",
    "from torch import tensor\n",
    "\n",
    "a = torch.tensor([[10, 2, 3], [-2, 5, 1]])\n",
    "\n",
    "b = torch.tensor([[30, 2], [20, 1], [1, -3]])\n",
    "\n",
    "print(torch.tensor([4]).expand_as(b.T))\n",
    "\n",
    "#b.T, a[0], a[0]*b.T, (a[0]*b.T).sum(axis=1)\n",
    "\n",
    "a, a[0][:,None].expand_as(b)"
   ]
  },
  {
   "cell_type": "code",
   "execution_count": 178,
   "metadata": {},
   "outputs": [
    {
     "name": "stdout",
     "output_type": "stream",
     "text": [
      "22.7 µs ± 9.09 µs per loop (mean ± std. dev. of 7 runs, 10 loops each)\n",
      "57.8 µs ± 31.4 µs per loop (mean ± std. dev. of 7 runs, 10 loops each)\n",
      "3.45 ms ± 762 µs per loop (mean ± std. dev. of 7 runs, 10 loops each)\n",
      "Wall time: 3.02 ms\n",
      "Wall time: 15.1 s\n",
      "Wall time: 76.8 ms\n"
     ]
    }
   ],
   "source": [
    "a = torch.rand([100, 200])\n",
    "b = torch.rand([200, 40])\n",
    "%timeit -n 10 t1=matmul000(a,b)\n",
    "%timeit -n 10 t2=matmul00(a,b)\n",
    "%timeit -n 10  t3=matmul0(a,b)\n",
    "%time  t4=matmul1(a,b)\n",
    "%time t5=matmul2(a,b)\n",
    "%time t6=matmul3(a,b)"
   ]
  },
  {
   "cell_type": "code",
   "execution_count": 98,
   "metadata": {},
   "outputs": [
    {
     "data": {
      "text/plain": [
       "(tensor([[1, 4, 6],\n",
       "         [1, 4, 6],\n",
       "         [1, 4, 6]]),\n",
       "  1\n",
       "  4\n",
       "  6\n",
       " [torch.LongStorage of size 3],\n",
       " (0, 1),\n",
       " torch.Size([3, 3]))"
      ]
     },
     "execution_count": 98,
     "metadata": {},
     "output_type": "execute_result"
    }
   ],
   "source": [
    "# This will expand it, but when you look at storage it only stores it once\n",
    "\n",
    "c = torch.tensor([1, 4, 6])\n",
    "d = torch.tensor([[10, 2, 3], [-2, 5, 1], [3,2,1]])\n",
    "t = c.expand_as(d)\n",
    "t, t.storage(), t.stride(), t.shape\n",
    "# The stride is (0,1) since for columns it moves through the data hopping along 1 each time, but for rows it moves along 0 each time (thus it stays in the same place)\n",
    "\n",
    "\n",
    "\n"
   ]
  },
  {
   "cell_type": "code",
   "execution_count": 121,
   "metadata": {},
   "outputs": [
    {
     "name": "stdout",
     "output_type": "stream",
     "text": [
      "tensor([[1, 4, 6]]) torch.Size([1, 3]) tensor([[1],\n",
      "        [4],\n",
      "        [6]]) torch.Size([3, 1])\n",
      "tensor([[[10,  2,  3],\n",
      "         [-2,  5,  1],\n",
      "         [ 3,  2,  1]]]) torch.Size([1, 3, 3]) tensor([[[10,  2,  3]],\n",
      "\n",
      "        [[-2,  5,  1]],\n",
      "\n",
      "        [[ 3,  2,  1]]]) torch.Size([3, 1, 3]) tensor([[[10],\n",
      "         [ 2],\n",
      "         [ 3]],\n",
      "\n",
      "        [[-2],\n",
      "         [ 5],\n",
      "         [ 1]],\n",
      "\n",
      "        [[ 3],\n",
      "         [ 2],\n",
      "         [ 1]]]) torch.Size([3, 3, 1])\n"
     ]
    }
   ],
   "source": [
    "# Unsqueeze adds a length 1 dimension at the desired spot\n",
    "c = torch.tensor([1, 4, 6])\n",
    "c.unsqueeze(0), c.unsqueeze(0).shape, c.unsqueeze(1), c.unsqueeze(1).shape\n",
    "d = torch.tensor([[10, 2, 3], [-2, 5, 1], [3,2,1]])\n",
    "d.unsqueeze(0), d.unsqueeze(0).shape, d.unsqueeze(1), d.unsqueeze(1).shape, d.unsqueeze(2), d.unsqueeze(2).shape\n",
    "# Shorthand notation:\n",
    "print(c[None], c[None].shape, c[:,None], c[:,None].shape)\n",
    "print(d[None], d[None].shape, d[:,None], d[:,None].shape, d[:,:,None], d[:,:,None].shape)"
   ]
  },
  {
   "cell_type": "code",
   "execution_count": 139,
   "metadata": {},
   "outputs": [
    {
     "data": {
      "text/plain": [
       "tensor(10)"
      ]
     },
     "execution_count": 139,
     "metadata": {},
     "output_type": "execute_result"
    }
   ],
   "source": [
    "d = torch.tensor([[10, 2, 3], [-2, 5, 1], [3,2,1]])\n",
    "# ... anywhere means that after it you are working from the last axis backwards, instead of the first axis forwards.\n",
    "d[0,...,0]\n"
   ]
  },
  {
   "cell_type": "markdown",
   "metadata": {},
   "source": [
    "The general rule is that they start from the last axis and work backwards. Each axis is compatible if:\n",
    "\n",
    "1. They are the same size\n",
    "2. One of them is 1, in which case it is broadcasted to be the same size as the other axis\n",
    "\n",
    "If one thing has less axis, it still starts from the last axis of both things and works backwards.\n",
    "\n"
   ]
  },
  {
   "cell_type": "code",
   "execution_count": 154,
   "metadata": {},
   "outputs": [
    {
     "data": {
      "text/plain": [
       "tensor([[[0., 0., 0., 0.],\n",
       "         [0., 0., 0., 0.],\n",
       "         [0., 0., 0., 0.],\n",
       "         [0., 0., 0., 0.],\n",
       "         [0., 0., 0., 0.],\n",
       "         [0., 0., 0., 0.],\n",
       "         [0., 0., 0., 0.],\n",
       "         [0., 0., 0., 0.],\n",
       "         [0., 0., 0., 0.],\n",
       "         [0., 0., 0., 0.]],\n",
       "\n",
       "        [[0., 0., 0., 0.],\n",
       "         [0., 0., 0., 0.],\n",
       "         [0., 0., 0., 0.],\n",
       "         [0., 0., 0., 0.],\n",
       "         [0., 0., 0., 0.],\n",
       "         [0., 0., 0., 0.],\n",
       "         [0., 0., 0., 0.],\n",
       "         [0., 0., 0., 0.],\n",
       "         [0., 0., 0., 0.],\n",
       "         [0., 0., 0., 0.]],\n",
       "\n",
       "        [[0., 0., 0., 0.],\n",
       "         [0., 0., 0., 0.],\n",
       "         [0., 0., 0., 0.],\n",
       "         [0., 0., 0., 0.],\n",
       "         [0., 0., 0., 0.],\n",
       "         [0., 0., 0., 0.],\n",
       "         [0., 0., 0., 0.],\n",
       "         [0., 0., 0., 0.],\n",
       "         [0., 0., 0., 0.],\n",
       "         [0., 0., 0., 0.]]])"
      ]
     },
     "execution_count": 154,
     "metadata": {},
     "output_type": "execute_result"
    }
   ],
   "source": [
    "a = torch.zeros([3,10,4])\n",
    "\n",
    "a*(torch.zeros([3])[:,None,None])\n",
    "a*(torch.zeros([10])[:,None])\n",
    "a*(torch.zeros([4]))\n",
    "a*torch.zeros([3,1,1])\n",
    "a*torch.zeros([1,10,1])\n",
    "a*torch.zeros([1,1,4])\n",
    "a*torch.zeros([3,1,4])\n",
    "a*torch.zeros([1,10,4])\n",
    "# etc"
   ]
  },
  {
   "cell_type": "code",
   "execution_count": 155,
   "metadata": {},
   "outputs": [
    {
     "name": "stdout",
     "output_type": "stream",
     "text": [
      "tensor([[343,  13],\n",
      "        [ 41,  -2]])\n"
     ]
    }
   ],
   "source": [
    "\n",
    "a = torch.tensor([[10, 2, 3], [-2, 5, 1]])\n",
    "\n",
    "b = torch.tensor([[30, 2], [20, 1], [1, -3]])\n",
    "\n",
    "print(torch.einsum(\"ik,kj->ij\", a, b))"
   ]
  },
  {
   "cell_type": "code",
   "execution_count": 189,
   "metadata": {},
   "outputs": [
    {
     "data": {
      "text/plain": [
       "tensor([[-0.2952, -0.9341, -0.4223, -1.0190,  0.2456, -0.6133, -1.4080, -1.3623,\n",
       "          0.4348,  0.2256],\n",
       "        [ 0.5693, -0.2497,  0.9739,  0.2206,  1.3143,  1.3304,  1.0459,  0.0500,\n",
       "          1.0873,  0.6846],\n",
       "        [-0.1863, -0.3399, -1.2109, -1.9753,  0.5485, -2.0030, -1.3316,  0.2011,\n",
       "         -0.6782, -0.5050],\n",
       "        [ 0.7071, -0.8895,  0.7457, -0.2768, -1.1438, -2.4894, -0.5299, -0.4752,\n",
       "          2.3249,  1.3471],\n",
       "        [ 0.1760, -2.4201, -1.1801,  1.0719, -2.3071,  2.1724,  0.0092, -0.2826,\n",
       "         -0.4482,  1.8626],\n",
       "        [-0.7799,  0.9627,  1.3358,  0.3358,  0.0445, -0.4429, -1.4348, -1.5696,\n",
       "          0.5019,  0.7517],\n",
       "        [-0.3472,  0.2741,  0.0111,  1.3033, -0.6587,  0.5325, -0.0851,  0.6103,\n",
       "         -1.6681,  1.7016],\n",
       "        [-1.2076, -1.3069, -0.2687,  0.2841, -1.6222,  1.4335, -0.5556, -1.1500,\n",
       "         -0.1205,  1.2446],\n",
       "        [-0.8119,  0.8948, -0.8631,  0.0553,  0.4175, -0.8051, -0.4708,  0.5994,\n",
       "         -0.5824, -0.1118],\n",
       "        [ 0.1029, -0.8275, -0.4112,  0.4238,  2.2661, -2.1956, -1.3877, -1.7371,\n",
       "          0.0045,  1.4685]])"
      ]
     },
     "execution_count": 189,
     "metadata": {},
     "output_type": "execute_result"
    }
   ],
   "source": [
    "data_x = torch.normal(0.0, 1.0, [1000, 720])\n",
    "data_y = torch.randint()"
   ]
  },
  {
   "cell_type": "code",
   "execution_count": 5,
   "metadata": {},
   "outputs": [
    {
     "data": {
      "text/plain": [
       "600"
      ]
     },
     "execution_count": 5,
     "metadata": {},
     "output_type": "execute_result"
    }
   ],
   "source": [
    "a = torch.zeros([10, 20, 3]).numel() # numel multiplies all the dimensions together, useful for finding size of input or output\n",
    "a"
   ]
  },
  {
   "cell_type": "code",
   "execution_count": null,
   "metadata": {},
   "outputs": [],
   "source": []
  }
 ],
 "metadata": {
  "kernelspec": {
   "display_name": "Python 3",
   "language": "python",
   "name": "python3"
  },
  "language_info": {
   "codemirror_mode": {
    "name": "ipython",
    "version": 3
   },
   "file_extension": ".py",
   "mimetype": "text/x-python",
   "name": "python",
   "nbconvert_exporter": "python",
   "pygments_lexer": "ipython3",
   "version": "3.8.5"
  }
 },
 "nbformat": 4,
 "nbformat_minor": 4
}
