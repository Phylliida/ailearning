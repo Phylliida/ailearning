{
 "cells": [
  {
   "cell_type": "code",
   "execution_count": 157,
   "id": "commercial-engineer",
   "metadata": {},
   "outputs": [
    {
     "name": "stdout",
     "output_type": "stream",
     "text": [
      "Note that qv is a percent\n"
     ]
    },
    {
     "data": {
      "application/vnd.jupyter.widget-view+json": {
       "model_id": "3ef0e30aaa984fd2bd9eaceebc9de07d",
       "version_major": 2,
       "version_minor": 0
      },
      "text/plain": [
       "interactive(children=(IntSlider(value=2, description='Pv', max=30), IntSlider(value=2, description='Qv', max=3…"
      ]
     },
     "metadata": {},
     "output_type": "display_data"
    },
    {
     "data": {
      "text/plain": [
       "<function __main__.computePr(Pv, Qv, qv, kv)>"
      ]
     },
     "execution_count": 157,
     "metadata": {},
     "output_type": "execute_result"
    }
   ],
   "source": [
    "from __future__ import print_function\n",
    "from ipywidgets import interact, interactive, fixed, interact_manual\n",
    "import ipywidgets as widgets\n",
    "import sympy\n",
    "import numpy as np\n",
    "from matplotlib import pyplot as plt\n",
    "\n",
    "\n",
    "P, a, k, Q = sympy.symbols(\"P a k Q\")\n",
    "p, q = sympy.symbols(\"p q\")\n",
    "\n",
    "N, w = sympy.symbols(\"N w\")\n",
    "\n",
    "insideSum = sympy.binomial(P,a)*p**a*(1-p)**(P-a)*sympy.binomial(Q, k-a)*q**(k-a)*(1-q)**(Q-(k-a))\n",
    "sumTerm = sympy.Sum(insideSum\n",
    "                    , [a, 0, k]) # this includes lower and upper limit\n",
    "\n",
    "\n",
    "print(\"Note that qv is a percent\")\n",
    "\n",
    "def computePr(Pv, Qv, qv, kv):\n",
    "    # note that with qv=0.0 or 1.0, you'll see it try to simplify 0**anything = 0. This is wrong, since power could be zero.\n",
    "    print((P, Pv, Q, Qv, q, qv, k, kv))\n",
    "    qv = sympy.Rational(qv, 100) # we represent q as a percent, this prevents numerical instability\n",
    "    subsDict = {P: Pv, Q: Qv, q: qv, k: kv}\n",
    "    \n",
    "    \n",
    "    baseFormula = sumTerm.subs(subsDict)\n",
    "    baseFormula = baseFormula.doit()\n",
    "    fig = plt.figure()\n",
    "    fig, (ax1, ax2, ax3) = plt.subplots(3, 1) \n",
    "    xSteps = 20\n",
    "    X = np.linspace(0, 1, xSteps)\n",
    "    YPr = [baseFormula.subs({p: pv}).evalf() for pv in X]\n",
    "    ax1.plot(X, YPr)\n",
    "    plt.xlabel(\"p\")\n",
    "    \n",
    "    SimplerPr = []\n",
    "    YVar = []\n",
    "    # there's a numerical instability if we try and compute it right out\n",
    "    # so instead we will do it seperately for each p\n",
    "    for i in range(xSteps):\n",
    "        pv = sympy.Rational(i, xSteps-1)\n",
    "        varSubsDict = {P: Pv, Q: Qv, q: qv, p: pv}\n",
    "        var = 0\n",
    "        insideSumAfterSubs = insideSum.subs(varSubsDict)\n",
    "        #print(\"inside sum:\", insideSum)\n",
    "        #print(\"inside sum after subs:\", insideSumAfterSubs)\n",
    "        \n",
    "         # (sum over k of Pr(heads=k)*(k/(Q+P))**2)    -  mu**2, where mu=(P*p+Q*q)/(P+Q)\n",
    "        #print(\"curP:\", pv)\n",
    "        for kv in range(0, (Q+P).subs(varSubsDict)+1): # +1 because range is exclusive\n",
    "            curPrK = 0\n",
    "            for av in range(0, kv+1):\n",
    "                # this order of substitution is important, otherwise it replaces binomial with factorial\n",
    "                # this sum relies on binomial(a, -b) = 0 (when b is positive), but when converting to factorial\n",
    "                # that givevs you factorial(negative number) which is -oo, and sympy has trouble dealing with that so\n",
    "                # you get nan. This substitution order prevents this issue from happening\n",
    "                valOfTerm = insideSum.subs({k: kv, a: av}).subs(varSubsDict) \n",
    "                #print(\"a=\", av, \" is \", valOfTerm)\n",
    "                curPrK += valOfTerm\n",
    "            #print(\"pr(k) with k=\", kv, \" is \", curPrK)\n",
    "            curPrKTimesX = (curPrK*(k/(Q+P))**2).subs(varSubsDict).subs({k: kv})\n",
    "            #print(curPrKTimesX)\n",
    "            var += curPrKTimesX\n",
    "        mu = ((P*p+Q*q)/(P+Q)).subs(varSubsDict)\n",
    "        var = var - mu**2\n",
    "        #print(\"resVar\", var)\n",
    "        YVar.append(var)\n",
    "        \n",
    "        \n",
    "        \n",
    "        avgPr = ((q*Q+p*P)/(Q+P)).subs(varSubsDict)\n",
    "        print(avgPr)\n",
    "        prK = sympy.binomial(N,kv)*p**kv*(1-p)**(N-kv)\n",
    "        prK = prK.subs({p: avgPr, N: (Qv+Pv)})\n",
    "        SimplerPr.append(prK)\n",
    "        \n",
    "        '''\n",
    "        termInner = varTermInner.subs(varSubsDict)\n",
    "        print(\"term inner\", termInner)\n",
    "       \n",
    "        varTerm = manualSum(termInner, [k,0,Q+P]).subs(varSubsDict)\n",
    "        print(\"totes\", varTerm)\n",
    "        varTerm = varTerm.doit()\n",
    "        print(\"totes\", varTerm)\n",
    "        varTerm = varTerm -((P*p+Q*q)/(P+Q))**2\n",
    "        varFormula = varTerm.subs(varSubsDict).doit()\n",
    "        YVar.append(varFormula.evalf())\n",
    "        '''\n",
    "    ax2.plot(X, YVar)\n",
    "    ax3.plot(X, SimplerPr)\n",
    "    plt.show()\n",
    "    \n",
    "updateWidget = interact_manual(computePr, Pv=widgets.IntSlider(min=0, max=30, step=1, value=2),\n",
    "          Qv=widgets.IntSlider(min=0, max=30, step=1, value=2),\n",
    "          qv=widgets.IntSlider(min=0, max=100, step=1, value=50),\n",
    "          kv=widgets.IntSlider(min=0, max=60, step=1, value=2))\n",
    "updateWidget"
   ]
  },
  {
   "cell_type": "code",
   "execution_count": 11,
   "id": "normal-injury",
   "metadata": {},
   "outputs": [
    {
     "data": {
      "text/plain": [
       "1.0"
      ]
     },
     "execution_count": 11,
     "metadata": {},
     "output_type": "execute_result"
    }
   ],
   "source": [
    "0.0**0\n"
   ]
  },
  {
   "cell_type": "code",
   "execution_count": 18,
   "id": "international-operator",
   "metadata": {},
   "outputs": [
    {
     "data": {
      "text/latex": [
       "$\\displaystyle 1$"
      ],
      "text/plain": [
       "1"
      ]
     },
     "execution_count": 18,
     "metadata": {},
     "output_type": "execute_result"
    }
   ],
   "source": [
    "sympy.binomial(10, 0)\n"
   ]
  },
  {
   "cell_type": "code",
   "execution_count": 20,
   "id": "final-bottle",
   "metadata": {},
   "outputs": [
    {
     "data": {
      "text/latex": [
       "$\\displaystyle 252 p^{5} \\left(1 - p\\right)^{5}$"
      ],
      "text/plain": [
       "252*p**5*(1 - p)**5"
      ]
     },
     "execution_count": 20,
     "metadata": {},
     "output_type": "execute_result"
    }
   ],
   "source": [
    "(0.0**(5 - a)*p**a*(1 - p)**(10 - a)*sympy.binomial(10, a)*sympy.binomial(10, 5 - a)).subs({a: 5})"
   ]
  },
  {
   "cell_type": "code",
   "execution_count": 23,
   "id": "economic-architecture",
   "metadata": {},
   "outputs": [
    {
     "data": {
      "text/latex": [
       "$\\displaystyle 10$"
      ],
      "text/plain": [
       "10"
      ]
     },
     "execution_count": 23,
     "metadata": {},
     "output_type": "execute_result"
    }
   ],
   "source": [
    "sympy.Sum(a, (a, 1, 4)).doit()"
   ]
  },
  {
   "cell_type": "code",
   "execution_count": 93,
   "id": "innovative-budget",
   "metadata": {},
   "outputs": [
    {
     "data": {
      "text/latex": [
       "$\\displaystyle 0$"
      ],
      "text/plain": [
       "0"
      ]
     },
     "execution_count": 93,
     "metadata": {},
     "output_type": "execute_result"
    }
   ],
   "source": [
    "sympy.binomial(-2, -2)\n"
   ]
  },
  {
   "cell_type": "code",
   "execution_count": 122,
   "id": "destroyed-missile",
   "metadata": {},
   "outputs": [
    {
     "data": {
      "text/latex": [
       "$\\displaystyle 0^{P} q^{Q}$"
      ],
      "text/plain": [
       "0**P*q**Q"
      ]
     },
     "execution_count": 122,
     "metadata": {},
     "output_type": "execute_result"
    }
   ],
   "source": [
    "(p**(P)*q**(Q)).subs({p: 0})"
   ]
  },
  {
   "cell_type": "code",
   "execution_count": 120,
   "id": "german-catch",
   "metadata": {},
   "outputs": [
    {
     "data": {
      "text/plain": [
       "1"
      ]
     },
     "execution_count": 120,
     "metadata": {},
     "output_type": "execute_result"
    }
   ],
   "source": [
    "0**0"
   ]
  },
  {
   "cell_type": "code",
   "execution_count": 131,
   "id": "inner-meeting",
   "metadata": {},
   "outputs": [
    {
     "data": {
      "text/latex": [
       "$\\displaystyle 0$"
      ],
      "text/plain": [
       "0"
      ]
     },
     "execution_count": 131,
     "metadata": {},
     "output_type": "execute_result"
    }
   ],
   "source": [
    "sympy.binomial(2, -1)"
   ]
  },
  {
   "cell_type": "code",
   "execution_count": null,
   "id": "unknown-basin",
   "metadata": {},
   "outputs": [],
   "source": []
  }
 ],
 "metadata": {
  "kernelspec": {
   "display_name": "Python 3",
   "language": "python",
   "name": "python3"
  },
  "language_info": {
   "codemirror_mode": {
    "name": "ipython",
    "version": 3
   },
   "file_extension": ".py",
   "mimetype": "text/x-python",
   "name": "python",
   "nbconvert_exporter": "python",
   "pygments_lexer": "ipython3",
   "version": "3.6.4"
  }
 },
 "nbformat": 4,
 "nbformat_minor": 5
}
